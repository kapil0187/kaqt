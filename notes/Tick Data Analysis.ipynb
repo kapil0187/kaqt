{
 "cells": [
  {
   "cell_type": "markdown",
   "metadata": {},
   "source": [
    "# Data Cleaning"
   ]
  },
  {
   "cell_type": "markdown",
   "metadata": {
    "slideshow": {
     "slide_type": "notes"
    }
   },
   "source": [
    "\"Standard\": Function deletes entries for which the mid-quote deviated by more than \"maxi\"\n",
    "median absolute deviations from a rolling centered median (excluding the observation under consideration)\n",
    "of \"window\" observations.\n",
    "\n",
    "\"Advanced\": Function deletes entries for which the mid-quote deviates by more than \"maxi\"\n",
    "median absolute deviations from the value closest to the mid-quote of these three options:\n",
    "1. Rolling centered median (excluding the observation under consideration)\n",
    "2. Rolling median of the following \"window\" observations\n",
    "3. Rolling median of the previous \"window\" observations\n",
    "The advantage of this procedure compared to the \"standard\" proposed by Barndorff-Nielsen et al.\n",
    "(2010) is that it will not incorrectly remove large price jumps. Therefore this procedure has been\n",
    "set as the default for removing outliers.\n",
    "Note that the median absolute deviation is taken over the entire sample. In case it is zero (which can\n",
    "happen if mid-quotes don’t change much), the median absolute deviation is taken over a subsample\n",
    "without constant mid-quotes.\n",
    "\n",
    "Sources: \n",
    "1. http://cran.r-project.org/web/packages/highfrequency/highfrequency.pdf\n",
    "2. Barndorff-Nielsen, O. E., P. R. Hansen, A. Lunde, and N. Shephard (2009). Realized kernels in\n",
    "practice: Trades and quotes. Econometrics Journal 12, C1-C32.\n",
    "3. Brownlees, C.T. and Gallo, G.M. (2006). Financial econometric analysis at ultra-high frequency:\n",
    "Data handling concerns. Computational Statistics & Data Analysis, 51, pages 2232-2245."
   ]
  },
  {
   "cell_type": "code",
   "execution_count": null,
   "metadata": {
    "collapsed": true
   },
   "outputs": [],
   "source": []
  }
 ],
 "metadata": {
  "kernelspec": {
   "display_name": "Python 3",
   "language": "python",
   "name": "python3"
  },
  "language_info": {
   "codemirror_mode": {
    "name": "ipython",
    "version": 3
   },
   "file_extension": ".py",
   "mimetype": "text/x-python",
   "name": "python",
   "nbconvert_exporter": "python",
   "pygments_lexer": "ipython3",
   "version": "3.4.3"
  }
 },
 "nbformat": 4,
 "nbformat_minor": 0
}
