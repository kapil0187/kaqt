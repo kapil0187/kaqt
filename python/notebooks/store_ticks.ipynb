{
 "cells": [
  {
   "cell_type": "code",
   "execution_count": 13,
   "metadata": {
    "collapsed": false
   },
   "outputs": [
    {
     "name": "stderr",
     "output_type": "stream",
     "text": [
      "/usr/lib64/python3.4/site-packages/matplotlib/backends/backend_gtk3.py:215: Warning: Source ID 7 was not found when attempting to remove it\n",
      "  GLib.source_remove(self._idle_event_id)\n"
     ]
    }
   ],
   "source": [
    "import pandas as pd\n",
    "import numpy as np\n",
    "import datetime\n",
    "import os\n",
    "%matplotlib inline"
   ]
  },
  {
   "cell_type": "code",
   "execution_count": 2,
   "metadata": {
    "collapsed": true
   },
   "outputs": [],
   "source": [
    "from kaqt.backtest.data import quotes_data, trades_data"
   ]
  },
  {
   "cell_type": "code",
   "execution_count": 3,
   "metadata": {
    "collapsed": true
   },
   "outputs": [],
   "source": [
    "symbol = 'EDZ9'"
   ]
  },
  {
   "cell_type": "code",
   "execution_count": 5,
   "metadata": {
    "collapsed": true
   },
   "outputs": [],
   "source": [
    "quotes = quotes_data(symbol=symbol)"
   ]
  },
  {
   "cell_type": "code",
   "execution_count": 8,
   "metadata": {
    "collapsed": false
   },
   "outputs": [],
   "source": [
    "quotes = quotes.ffill()"
   ]
  },
  {
   "cell_type": "code",
   "execution_count": 9,
   "metadata": {
    "collapsed": false
   },
   "outputs": [
    {
     "data": {
      "text/html": [
       "<div style=\"max-height:1000px;max-width:1500px;overflow:auto;\">\n",
       "<table border=\"1\" class=\"dataframe\">\n",
       "  <thead>\n",
       "    <tr style=\"text-align: right;\">\n",
       "      <th></th>\n",
       "      <th>Bid</th>\n",
       "      <th>BidSize</th>\n",
       "      <th>Ask</th>\n",
       "      <th>AskSize</th>\n",
       "    </tr>\n",
       "    <tr>\n",
       "      <th>DateTime</th>\n",
       "      <th></th>\n",
       "      <th></th>\n",
       "      <th></th>\n",
       "      <th></th>\n",
       "    </tr>\n",
       "  </thead>\n",
       "  <tbody>\n",
       "    <tr>\n",
       "      <th>2015-06-23 23:58:44.320134</th>\n",
       "      <td>97.04</td>\n",
       "      <td>1</td>\n",
       "      <td>97.045</td>\n",
       "      <td>286</td>\n",
       "    </tr>\n",
       "    <tr>\n",
       "      <th>2015-06-23 23:58:44.352359</th>\n",
       "      <td>97.04</td>\n",
       "      <td>1</td>\n",
       "      <td>97.045</td>\n",
       "      <td>287</td>\n",
       "    </tr>\n",
       "    <tr>\n",
       "      <th>2015-06-23 23:59:15.160400</th>\n",
       "      <td>97.04</td>\n",
       "      <td>1</td>\n",
       "      <td>97.045</td>\n",
       "      <td>293</td>\n",
       "    </tr>\n",
       "    <tr>\n",
       "      <th>2015-06-23 23:59:15.664259</th>\n",
       "      <td>97.04</td>\n",
       "      <td>1</td>\n",
       "      <td>97.045</td>\n",
       "      <td>287</td>\n",
       "    </tr>\n",
       "    <tr>\n",
       "      <th>2015-06-23 23:59:17.792140</th>\n",
       "      <td>97.04</td>\n",
       "      <td>1</td>\n",
       "      <td>97.045</td>\n",
       "      <td>292</td>\n",
       "    </tr>\n",
       "  </tbody>\n",
       "</table>\n",
       "</div>"
      ],
      "text/plain": [
       "                              Bid  BidSize     Ask  AskSize\n",
       "DateTime                                                   \n",
       "2015-06-23 23:58:44.320134  97.04        1  97.045      286\n",
       "2015-06-23 23:58:44.352359  97.04        1  97.045      287\n",
       "2015-06-23 23:59:15.160400  97.04        1  97.045      293\n",
       "2015-06-23 23:59:15.664259  97.04        1  97.045      287\n",
       "2015-06-23 23:59:17.792140  97.04        1  97.045      292"
      ]
     },
     "execution_count": 9,
     "metadata": {},
     "output_type": "execute_result"
    }
   ],
   "source": [
    "quotes.tail()"
   ]
  },
  {
   "cell_type": "code",
   "execution_count": 10,
   "metadata": {
    "collapsed": true
   },
   "outputs": [],
   "source": [
    "from kaqt.backtest.data import clean_quotes"
   ]
  },
  {
   "cell_type": "code",
   "execution_count": 11,
   "metadata": {
    "collapsed": true
   },
   "outputs": [],
   "source": [
    "quotes = clean_quotes(quotes)"
   ]
  },
  {
   "cell_type": "code",
   "execution_count": 16,
   "metadata": {
    "collapsed": true
   },
   "outputs": [],
   "source": [
    "quotes = quotes.reset_index()"
   ]
  },
  {
   "cell_type": "code",
   "execution_count": 22,
   "metadata": {
    "collapsed": false
   },
   "outputs": [],
   "source": [
    "quotes.DateTime = quotes.DateTime.astype(np.int64)"
   ]
  },
  {
   "cell_type": "code",
   "execution_count": 23,
   "metadata": {
    "collapsed": false
   },
   "outputs": [
    {
     "data": {
      "text/html": [
       "<div style=\"max-height:1000px;max-width:1500px;overflow:auto;\">\n",
       "<table border=\"1\" class=\"dataframe\">\n",
       "  <thead>\n",
       "    <tr style=\"text-align: right;\">\n",
       "      <th></th>\n",
       "      <th>DateTime</th>\n",
       "      <th>Bid</th>\n",
       "      <th>BidSize</th>\n",
       "      <th>Ask</th>\n",
       "      <th>AskSize</th>\n",
       "    </tr>\n",
       "  </thead>\n",
       "  <tbody>\n",
       "    <tr>\n",
       "      <th>588130</th>\n",
       "      <td>1435103924320134000</td>\n",
       "      <td>97.04</td>\n",
       "      <td>1</td>\n",
       "      <td>97.045</td>\n",
       "      <td>286</td>\n",
       "    </tr>\n",
       "    <tr>\n",
       "      <th>588131</th>\n",
       "      <td>1435103924352359000</td>\n",
       "      <td>97.04</td>\n",
       "      <td>1</td>\n",
       "      <td>97.045</td>\n",
       "      <td>287</td>\n",
       "    </tr>\n",
       "    <tr>\n",
       "      <th>588132</th>\n",
       "      <td>1435103955160400000</td>\n",
       "      <td>97.04</td>\n",
       "      <td>1</td>\n",
       "      <td>97.045</td>\n",
       "      <td>293</td>\n",
       "    </tr>\n",
       "    <tr>\n",
       "      <th>588133</th>\n",
       "      <td>1435103955664259000</td>\n",
       "      <td>97.04</td>\n",
       "      <td>1</td>\n",
       "      <td>97.045</td>\n",
       "      <td>287</td>\n",
       "    </tr>\n",
       "    <tr>\n",
       "      <th>588134</th>\n",
       "      <td>1435103957792140000</td>\n",
       "      <td>97.04</td>\n",
       "      <td>1</td>\n",
       "      <td>97.045</td>\n",
       "      <td>292</td>\n",
       "    </tr>\n",
       "  </tbody>\n",
       "</table>\n",
       "</div>"
      ],
      "text/plain": [
       "                   DateTime    Bid  BidSize     Ask  AskSize\n",
       "588130  1435103924320134000  97.04        1  97.045      286\n",
       "588131  1435103924352359000  97.04        1  97.045      287\n",
       "588132  1435103955160400000  97.04        1  97.045      293\n",
       "588133  1435103955664259000  97.04        1  97.045      287\n",
       "588134  1435103957792140000  97.04        1  97.045      292"
      ]
     },
     "execution_count": 23,
     "metadata": {},
     "output_type": "execute_result"
    }
   ],
   "source": [
    "quotes.tail()"
   ]
  },
  {
   "cell_type": "code",
   "execution_count": 15,
   "metadata": {
    "collapsed": true
   },
   "outputs": [],
   "source": [
    "from tables import *"
   ]
  },
  {
   "cell_type": "code",
   "execution_count": 24,
   "metadata": {
    "collapsed": true
   },
   "outputs": [],
   "source": [
    "class Quote(IsDescription):\n",
    "    date_time = Int64Col()\n",
    "    bid = Float64Col()\n",
    "    ask = Float64Col()\n",
    "    bid_size = Int32Col()\n",
    "    ask_size = Int32Col()"
   ]
  },
  {
   "cell_type": "code",
   "execution_count": 27,
   "metadata": {
    "collapsed": false
   },
   "outputs": [],
   "source": [
    "filters = Filters(complib='zlib', complevel=9)"
   ]
  },
  {
   "cell_type": "code",
   "execution_count": 28,
   "metadata": {
    "collapsed": true
   },
   "outputs": [],
   "source": [
    "store = open_file('quotes.h5', 'w', filters=filters)"
   ]
  },
  {
   "cell_type": "code",
   "execution_count": 29,
   "metadata": {
    "collapsed": true
   },
   "outputs": [],
   "source": [
    "root = store.root"
   ]
  },
  {
   "cell_type": "code",
   "execution_count": 30,
   "metadata": {
    "collapsed": true
   },
   "outputs": [],
   "source": [
    "table = store.create_group(root, \"EDZ9\")"
   ]
  },
  {
   "cell_type": "code",
   "execution_count": null,
   "metadata": {
    "collapsed": true
   },
   "outputs": [],
   "source": [
    "table = store.get_node('')"
   ]
  },
  {
   "cell_type": "code",
   "execution_count": 31,
   "metadata": {
    "collapsed": true
   },
   "outputs": [],
   "source": [
    "tb = store.create_table(table, \"20150623\", Quote)"
   ]
  },
  {
   "cell_type": "code",
   "execution_count": 32,
   "metadata": {
    "collapsed": true
   },
   "outputs": [],
   "source": [
    "row = tb.row"
   ]
  },
  {
   "cell_type": "code",
   "execution_count": 33,
   "metadata": {
    "collapsed": true
   },
   "outputs": [],
   "source": [
    "for i in quotes.index:\n",
    "    row['date_time'] = quotes.ix[i, 'DateTime']\n",
    "    row['bid'] = quotes.ix[i, 'Bid']\n",
    "    row['ask'] = quotes.ix[i, 'Ask']\n",
    "    row['bid_size'] = quotes.ix[i, 'BidSize']\n",
    "    row['ask_size'] = quotes.ix[i, 'AskSize']\n",
    "    row.append()\n",
    "\n",
    "tb.flush()"
   ]
  },
  {
   "cell_type": "code",
   "execution_count": 34,
   "metadata": {
    "collapsed": true
   },
   "outputs": [],
   "source": [
    "store.close()"
   ]
  },
  {
   "cell_type": "code",
   "execution_count": 35,
   "metadata": {
    "collapsed": true
   },
   "outputs": [],
   "source": [
    "store = pd.HDFStore('quotes.h5')"
   ]
  },
  {
   "cell_type": "code",
   "execution_count": 36,
   "metadata": {
    "collapsed": true
   },
   "outputs": [],
   "source": [
    "edz9 = store['EDZ9/D20150623']"
   ]
  },
  {
   "cell_type": "code",
   "execution_count": 37,
   "metadata": {
    "collapsed": false
   },
   "outputs": [
    {
     "data": {
      "text/html": [
       "<div style=\"max-height:1000px;max-width:1500px;overflow:auto;\">\n",
       "<table border=\"1\" class=\"dataframe\">\n",
       "  <thead>\n",
       "    <tr style=\"text-align: right;\">\n",
       "      <th></th>\n",
       "      <th>ask</th>\n",
       "      <th>ask_size</th>\n",
       "      <th>bid</th>\n",
       "      <th>bid_size</th>\n",
       "      <th>date_time</th>\n",
       "    </tr>\n",
       "  </thead>\n",
       "  <tbody>\n",
       "    <tr>\n",
       "      <th>588130</th>\n",
       "      <td>97.045</td>\n",
       "      <td>286</td>\n",
       "      <td>97.04</td>\n",
       "      <td>1</td>\n",
       "      <td>1435103924320134000</td>\n",
       "    </tr>\n",
       "    <tr>\n",
       "      <th>588131</th>\n",
       "      <td>97.045</td>\n",
       "      <td>287</td>\n",
       "      <td>97.04</td>\n",
       "      <td>1</td>\n",
       "      <td>1435103924352359000</td>\n",
       "    </tr>\n",
       "    <tr>\n",
       "      <th>588132</th>\n",
       "      <td>97.045</td>\n",
       "      <td>293</td>\n",
       "      <td>97.04</td>\n",
       "      <td>1</td>\n",
       "      <td>1435103955160400000</td>\n",
       "    </tr>\n",
       "    <tr>\n",
       "      <th>588133</th>\n",
       "      <td>97.045</td>\n",
       "      <td>287</td>\n",
       "      <td>97.04</td>\n",
       "      <td>1</td>\n",
       "      <td>1435103955664259000</td>\n",
       "    </tr>\n",
       "    <tr>\n",
       "      <th>588134</th>\n",
       "      <td>97.045</td>\n",
       "      <td>292</td>\n",
       "      <td>97.04</td>\n",
       "      <td>1</td>\n",
       "      <td>1435103957792140000</td>\n",
       "    </tr>\n",
       "  </tbody>\n",
       "</table>\n",
       "</div>"
      ],
      "text/plain": [
       "           ask  ask_size    bid  bid_size            date_time\n",
       "588130  97.045       286  97.04         1  1435103924320134000\n",
       "588131  97.045       287  97.04         1  1435103924352359000\n",
       "588132  97.045       293  97.04         1  1435103955160400000\n",
       "588133  97.045       287  97.04         1  1435103955664259000\n",
       "588134  97.045       292  97.04         1  1435103957792140000"
      ]
     },
     "execution_count": 37,
     "metadata": {},
     "output_type": "execute_result"
    }
   ],
   "source": [
    "edz9.tail()"
   ]
  },
  {
   "cell_type": "code",
   "execution_count": 39,
   "metadata": {
    "collapsed": false
   },
   "outputs": [],
   "source": [
    "edz9.index = pd.to_datetime(edz9.date_time)"
   ]
  },
  {
   "cell_type": "code",
   "execution_count": 40,
   "metadata": {
    "collapsed": false
   },
   "outputs": [
    {
     "data": {
      "text/html": [
       "<div style=\"max-height:1000px;max-width:1500px;overflow:auto;\">\n",
       "<table border=\"1\" class=\"dataframe\">\n",
       "  <thead>\n",
       "    <tr style=\"text-align: right;\">\n",
       "      <th></th>\n",
       "      <th>ask</th>\n",
       "      <th>ask_size</th>\n",
       "      <th>bid</th>\n",
       "      <th>bid_size</th>\n",
       "      <th>date_time</th>\n",
       "    </tr>\n",
       "    <tr>\n",
       "      <th>date_time</th>\n",
       "      <th></th>\n",
       "      <th></th>\n",
       "      <th></th>\n",
       "      <th></th>\n",
       "      <th></th>\n",
       "    </tr>\n",
       "  </thead>\n",
       "  <tbody>\n",
       "    <tr>\n",
       "      <th>2015-06-23 23:58:44.320134</th>\n",
       "      <td>97.045</td>\n",
       "      <td>286</td>\n",
       "      <td>97.04</td>\n",
       "      <td>1</td>\n",
       "      <td>1435103924320134000</td>\n",
       "    </tr>\n",
       "    <tr>\n",
       "      <th>2015-06-23 23:58:44.352359</th>\n",
       "      <td>97.045</td>\n",
       "      <td>287</td>\n",
       "      <td>97.04</td>\n",
       "      <td>1</td>\n",
       "      <td>1435103924352359000</td>\n",
       "    </tr>\n",
       "    <tr>\n",
       "      <th>2015-06-23 23:59:15.160400</th>\n",
       "      <td>97.045</td>\n",
       "      <td>293</td>\n",
       "      <td>97.04</td>\n",
       "      <td>1</td>\n",
       "      <td>1435103955160400000</td>\n",
       "    </tr>\n",
       "    <tr>\n",
       "      <th>2015-06-23 23:59:15.664259</th>\n",
       "      <td>97.045</td>\n",
       "      <td>287</td>\n",
       "      <td>97.04</td>\n",
       "      <td>1</td>\n",
       "      <td>1435103955664259000</td>\n",
       "    </tr>\n",
       "    <tr>\n",
       "      <th>2015-06-23 23:59:17.792140</th>\n",
       "      <td>97.045</td>\n",
       "      <td>292</td>\n",
       "      <td>97.04</td>\n",
       "      <td>1</td>\n",
       "      <td>1435103957792140000</td>\n",
       "    </tr>\n",
       "  </tbody>\n",
       "</table>\n",
       "</div>"
      ],
      "text/plain": [
       "                               ask  ask_size    bid  bid_size  \\\n",
       "date_time                                                       \n",
       "2015-06-23 23:58:44.320134  97.045       286  97.04         1   \n",
       "2015-06-23 23:58:44.352359  97.045       287  97.04         1   \n",
       "2015-06-23 23:59:15.160400  97.045       293  97.04         1   \n",
       "2015-06-23 23:59:15.664259  97.045       287  97.04         1   \n",
       "2015-06-23 23:59:17.792140  97.045       292  97.04         1   \n",
       "\n",
       "                                      date_time  \n",
       "date_time                                        \n",
       "2015-06-23 23:58:44.320134  1435103924320134000  \n",
       "2015-06-23 23:58:44.352359  1435103924352359000  \n",
       "2015-06-23 23:59:15.160400  1435103955160400000  \n",
       "2015-06-23 23:59:15.664259  1435103955664259000  \n",
       "2015-06-23 23:59:17.792140  1435103957792140000  "
      ]
     },
     "execution_count": 40,
     "metadata": {},
     "output_type": "execute_result"
    }
   ],
   "source": [
    "edz9.tail()"
   ]
  },
  {
   "cell_type": "code",
   "execution_count": 41,
   "metadata": {
    "collapsed": true
   },
   "outputs": [],
   "source": [
    "store.close()"
   ]
  },
  {
   "cell_type": "code",
   "execution_count": null,
   "metadata": {
    "collapsed": true
   },
   "outputs": [],
   "source": []
  }
 ],
 "metadata": {
  "kernelspec": {
   "display_name": "Python 3",
   "language": "python",
   "name": "python3"
  },
  "language_info": {
   "codemirror_mode": {
    "name": "ipython",
    "version": 3
   },
   "file_extension": ".py",
   "mimetype": "text/x-python",
   "name": "python",
   "nbconvert_exporter": "python",
   "pygments_lexer": "ipython3",
   "version": "3.4.1"
  }
 },
 "nbformat": 4,
 "nbformat_minor": 0
}
