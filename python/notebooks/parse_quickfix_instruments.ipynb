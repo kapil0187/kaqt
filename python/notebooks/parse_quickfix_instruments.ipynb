{
 "cells": [
  {
   "cell_type": "code",
   "execution_count": 1,
   "metadata": {
    "collapsed": false
   },
   "outputs": [],
   "source": [
    "import pandas as pd\n",
    "import numpy as np\n",
    "import quickfix as qf\n",
    "import quickfix42 as qf42"
   ]
  },
  {
   "cell_type": "code",
   "execution_count": 2,
   "metadata": {
    "collapsed": true
   },
   "outputs": [],
   "source": [
    "pd.options.display.notebook_repr_html = False"
   ]
  },
  {
   "cell_type": "code",
   "execution_count": 3,
   "metadata": {
    "collapsed": false
   },
   "outputs": [],
   "source": [
    "f = open('/Users/kapilsharma/GitHub/kaqt/python/notebooks/FIX.4.2-KAPILDTS-TTDEV13P.messages.current.log')\n",
    "lines = f.readlines()\n",
    "f.close()"
   ]
  },
  {
   "cell_type": "code",
   "execution_count": 4,
   "metadata": {
    "collapsed": false
   },
   "outputs": [],
   "source": [
    "lines = [x[24:][:-2].strip() for x in lines]"
   ]
  },
  {
   "cell_type": "code",
   "execution_count": 5,
   "metadata": {
    "collapsed": false
   },
   "outputs": [
    {
     "data": {
      "text/plain": [
       "['8=FIX.4.2\\x019=89\\x0135=A\\x0134=1\\x0149=KAPILDTS\\x0152=20150508-17:11:23.099\\x0156=TTDEV13P\\x0196=12345678\\x0198=0\\x01108=30\\x01141=Y\\x0110=032\\x01',\n",
       " '8=FIX.4.2\\x019=00077\\x0135=A\\x0149=TTDEV13P\\x0156=KAPILDTS\\x0134=1\\x0152=20150508-17:11:23.653\\x01108=30\\x01141=Y\\x0198=0\\x0110=088\\x01',\n",
       " '8=FIX.4.2\\x019=81\\x0135=c\\x0134=2\\x0149=KAPILDTS\\x0152=20150508-17:11:23.895\\x0156=TTDEV13P\\x01167=FUT\\x01320=1\\x0117000=Y\\x0110=006\\x01',\n",
       " '8=FIX.4.2\\x019=00270\\x0135=d\\x0149=TTDEV13P\\x0156=KAPILDTS\\x0134=2\\x0152=20150508-17:11:23.676\\x0155=6B\\x0148=00A0FP006BZ\\x0110455=6BM5\\x01167=FUT\\x01207=CME\\x0115=USD\\x01320=1\\x01322=1:0\\x01200=201506\\x0116451=0\\x01393=29666\\x01323=4\\x0116452=1\\x0116454=6.25\\x0116552=1\\x0116554=6.25\\x0116456=0\\x01146=0\\x0118206=2\\x0118203=CME\\x0118203=CME-B\\x01864=1\\x01865=5\\x01866=20150615\\x0110=198\\x01',\n",
       " '8=FIX.4.2\\x019=110\\x0135=3\\x0134=3\\x0149=KAPILDTS\\x0152=20150508-17:11:23.913\\x0156=TTDEV13P\\x0145=2\\x0158=Tag appears more than once\\x01371=18203\\x01372=d\\x0110=189\\x01']"
      ]
     },
     "execution_count": 5,
     "metadata": {},
     "output_type": "execute_result"
    }
   ],
   "source": [
    "lines[:5]"
   ]
  },
  {
   "cell_type": "code",
   "execution_count": 6,
   "metadata": {
    "collapsed": false
   },
   "outputs": [],
   "source": [
    "messages = [qf.Message(x) for x in lines]"
   ]
  },
  {
   "cell_type": "code",
   "execution_count": 7,
   "metadata": {
    "collapsed": false
   },
   "outputs": [],
   "source": [
    "messages = pd.Series(messages)"
   ]
  },
  {
   "cell_type": "code",
   "execution_count": 8,
   "metadata": {
    "collapsed": false
   },
   "outputs": [],
   "source": [
    "sec_defs = messages[messages.apply(lambda x : x.getHeader().getField(35) == 'd')] "
   ]
  },
  {
   "cell_type": "code",
   "execution_count": 9,
   "metadata": {
    "collapsed": false
   },
   "outputs": [
    {
     "data": {
      "text/plain": [
       "33344    8=FIX.4.2\u00019=279\u000135=d\u000134=29663\u000149=TTDEV13P\u000152=2...\n",
       "33345    8=FIX.4.2\u00019=269\u000135=d\u000134=29664\u000149=TTDEV13P\u000152=2...\n",
       "33346    8=FIX.4.2\u00019=269\u000135=d\u000134=29665\u000149=TTDEV13P\u000152=2...\n",
       "33347    8=FIX.4.2\u00019=271\u000135=d\u000134=29666\u000149=TTDEV13P\u000152=2...\n",
       "33348    8=FIX.4.2\u00019=271\u000135=d\u000134=29667\u000149=TTDEV13P\u000152=2...\n",
       "dtype: object"
      ]
     },
     "execution_count": 9,
     "metadata": {},
     "output_type": "execute_result"
    }
   ],
   "source": [
    "sec_defs.tail()"
   ]
  },
  {
   "cell_type": "code",
   "execution_count": 10,
   "metadata": {
    "collapsed": true
   },
   "outputs": [],
   "source": [
    "# I  need SecurityID, Symbol, SecurityDesc, SecurityType, MaturityMonthYear , SecurityExchange , TotNoRelatedSym , NoEvents ,EventType , EventDate , all TT tags "
   ]
  },
  {
   "cell_type": "code",
   "execution_count": 11,
   "metadata": {
    "collapsed": false
   },
   "outputs": [],
   "source": [
    "def get_clean_field(x, tag):\n",
    "    ret_val = np.nan\n",
    "    if x.isSetField(tag) is True:\n",
    "        ret_val = x.getField(tag)\n",
    "    return ret_val\n",
    "\n",
    "def getdata_for_field(msgs, dict, key):\n",
    "    return msgs.apply(lambda x : get_clean_field(x, dict[key]))"
   ]
  },
  {
   "cell_type": "code",
   "execution_count": 12,
   "metadata": {
    "collapsed": true
   },
   "outputs": [],
   "source": [
    "tags = {\n",
    "    'SecurityID' : 48,\n",
    "    'Symbol' : 55,\n",
    "    'SecurityDesc' : 107,\n",
    "    'SecurityType' : 167,\n",
    "    'MaturityMonthYear' : 200,\n",
    "    'SecurityExchange' : 207,\n",
    "    'EventType' : 865,\n",
    "    'EventDate' : 866,\n",
    "    'ContractSymbol' : 10455,\n",
    "    'PriceDisplayType' : 16451,\n",
    "    'TickSize' : 16452,\n",
    "    'PointValue' : 16454,\n",
    "    'ExchTickSize' : 16552,\n",
    "    'ExchPointValue' : 16554,\n",
    "}\n"
   ]
  },
  {
   "cell_type": "code",
   "execution_count": 25,
   "metadata": {
    "collapsed": false
   },
   "outputs": [],
   "source": [
    "data = {}\n",
    "for key in tags:\n",
    "    data[key] = getdata_for_field(sec_defs, tags, key)"
   ]
  },
  {
   "cell_type": "code",
   "execution_count": 14,
   "metadata": {
    "collapsed": false
   },
   "outputs": [],
   "source": [
    "data = pd.DataFrame(data)"
   ]
  },
  {
   "cell_type": "code",
   "execution_count": 67,
   "metadata": {
    "collapsed": true
   },
   "outputs": [],
   "source": [
    "def get_df_row(msg):\n",
    "    security_id = get_clean_field(msg, tags['SecurityID'])\n",
    "    symbol = get_clean_field(msg, tags['Symbol'])\n",
    "    security_desc = get_clean_field(msg, tags['SecurityDesc'])\n",
    "    security_type = get_clean_field(msg, tags['SecurityType'])\n",
    "    maturity_month_year = get_clean_field(msg, tags['MaturityMonthYear'])\n",
    "    security_exchange = get_clean_field(msg, tags['SecurityExchange'])\n",
    "    event_type = get_clean_field(msg, tags['EventType'])\n",
    "    event_date = get_clean_field(msg, tags['EventDate'])\n",
    "    contract_symbol = get_clean_field(msg, tags['ContractSymbol'])\n",
    "    price_display_format = get_clean_field(msg, tags['PriceDisplayType'])\n",
    "    tick_size = get_clean_field(msg, tags['TickSize'])\n",
    "    point_value = get_clean_field(msg, tags['PointValue'])\n",
    "    exch_tick_size = get_clean_field(msg, tags['ExchTickSize'])\n",
    "    exch_point_value = get_clean_field(msg, tags['ExchPointValue'])\n",
    "    row_data = {\n",
    "        'SecurityID' : security_id,\n",
    "        'Symbol' : symbol,\n",
    "        'SecurityDesc' : security_desc,\n",
    "        'SecurityType' : security_type,\n",
    "        'MaturityMonthYear' : maturity_month_year,\n",
    "        'SecurityExchange' : security_exchange,\n",
    "        'EventType' : event_type,\n",
    "        'EventDate' : event_date,\n",
    "        'ContractSymbol' : contract_symbol,\n",
    "        'PriceDisplayType' : price_display_format,\n",
    "        'TickSize' : tick_size,\n",
    "        'PointValue' : point_value,\n",
    "        'ExchTickSize' : exch_tick_size,\n",
    "        'ExchPointValue' : exch_point_value\n",
    "    }\n",
    "    return row_data"
   ]
  },
  {
   "cell_type": "code",
   "execution_count": 68,
   "metadata": {
    "collapsed": false
   },
   "outputs": [
    {
     "data": {
      "text/plain": [
       "Empty DataFrame\n",
       "Columns: [PriceDisplayType, MaturityMonthYear, SecurityDesc, ExchTickSize, TickSize, ExchPointValue, ContractSymbol, EventType, Symbol, SecurityExchange, SecurityType, SecurityID, PointValue, EventDate]\n",
       "Index: []"
      ]
     },
     "execution_count": 68,
     "metadata": {},
     "output_type": "execute_result"
    }
   ],
   "source": [
    "security_definitions = pd.DataFrame(columns=tags.keys())\n",
    "security_definitions"
   ]
  },
  {
   "cell_type": "code",
   "execution_count": 72,
   "metadata": {
    "collapsed": false
   },
   "outputs": [],
   "source": [
    "all_data = []\n",
    "for sd in sec_defs:\n",
    "    row_data = get_df_row(sd)\n",
    "    all_data.append(row_data)"
   ]
  },
  {
   "cell_type": "code",
   "execution_count": 66,
   "metadata": {
    "collapsed": false
   },
   "outputs": [
    {
     "data": {
      "text/plain": [
       "0"
      ]
     },
     "execution_count": 66,
     "metadata": {},
     "output_type": "execute_result"
    }
   ],
   "source": [
    "len(security_definitions)"
   ]
  },
  {
   "cell_type": "code",
   "execution_count": null,
   "metadata": {
    "collapsed": true
   },
   "outputs": [],
   "source": []
  }
 ],
 "metadata": {
  "kernelspec": {
   "display_name": "Python 2",
   "language": "python",
   "name": "python2"
  },
  "language_info": {
   "codemirror_mode": {
    "name": "ipython",
    "version": 2
   },
   "file_extension": ".py",
   "mimetype": "text/x-python",
   "name": "python",
   "nbconvert_exporter": "python",
   "pygments_lexer": "ipython2",
   "version": "2.7.9"
  }
 },
 "nbformat": 4,
 "nbformat_minor": 0
}
