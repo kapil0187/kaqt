{
 "cells": [
  {
   "cell_type": "code",
   "execution_count": 1,
   "metadata": {
    "collapsed": true
   },
   "outputs": [],
   "source": [
    "import pandas as pd\n",
    "import numpy as np\n",
    "import os\n",
    "import re\n",
    "%matplotlib inline"
   ]
  },
  {
   "cell_type": "code",
   "execution_count": 2,
   "metadata": {
    "collapsed": true
   },
   "outputs": [],
   "source": [
    "from kaqt.foundation.constants import kaqt_dir\n",
    "from kaqt.foundation.constants import settles_data_path"
   ]
  },
  {
   "cell_type": "code",
   "execution_count": 3,
   "metadata": {
    "collapsed": true
   },
   "outputs": [],
   "source": [
    "kaqt_dir = '/Users/kapilsharma/KAQT'"
   ]
  },
  {
   "cell_type": "code",
   "execution_count": 9,
   "metadata": {
    "collapsed": true
   },
   "outputs": [],
   "source": [
    "data_path = os.path.join(kaqt_dir, settles_data_path)"
   ]
  },
  {
   "cell_type": "code",
   "execution_count": 10,
   "metadata": {
    "collapsed": false
   },
   "outputs": [
    {
     "data": {
      "text/plain": [
       "'/home/ksharma/dev/kaqt/data/settles'"
      ]
     },
     "execution_count": 10,
     "metadata": {},
     "output_type": "execute_result"
    }
   ],
   "source": [
    "data_path"
   ]
  },
  {
   "cell_type": "code",
   "execution_count": 11,
   "metadata": {
    "collapsed": false
   },
   "outputs": [
    {
     "data": {
      "text/plain": [
       "['/home/ksharma/dev/kaqt/data/settles/bpeterson@rcgdirect.com-Futures_Settles-Auto_2014-N86772739.csv.gz',\n",
       " '/home/ksharma/dev/kaqt/data/settles/bpeterson@rcgdirect.com-Futures_Settles-Auto_2014-N82985931.csv.gz',\n",
       " '/home/ksharma/dev/kaqt/data/settles/bpeterson@rcgdirect.com-Futures_Settles-Auto_2014-N84421108.csv.gz',\n",
       " '/home/ksharma/dev/kaqt/data/settles/bpeterson@rcgdirect.com-Futures_Settles-Auto_2014-N81978231.csv.gz',\n",
       " '/home/ksharma/dev/kaqt/data/settles/bpeterson@rcgdirect.com-Futures_Settles-Auto_2014-N83109117.csv.gz']"
      ]
     },
     "execution_count": 11,
     "metadata": {},
     "output_type": "execute_result"
    }
   ],
   "source": [
    "r = re.compile(\"\\\\S*-Futures_Settles\")\n",
    "all_files = os.listdir(data_path)\n",
    "all_files = [os.path.join(data_path, f) for f in all_files if r.match(f)]\n",
    "all_files[:5]"
   ]
  },
  {
   "cell_type": "code",
   "execution_count": 12,
   "metadata": {
    "collapsed": false
   },
   "outputs": [],
   "source": [
    "settles_data = []\n",
    "for file in all_files:\n",
    "    data = pd.read_csv(file, compression='gzip')\n",
    "    settles_data.append(data)\n",
    "\n",
    "settles_data = pd.concat(settles_data)"
   ]
  },
  {
   "cell_type": "code",
   "execution_count": 13,
   "metadata": {
    "collapsed": false
   },
   "outputs": [
    {
     "data": {
      "text/plain": [
       "#RIC       137720\n",
       "Date[L]    137720\n",
       "Time[L]         0\n",
       "Type       137720\n",
       "Settle     137720\n",
       "dtype: int64"
      ]
     },
     "execution_count": 13,
     "metadata": {},
     "output_type": "execute_result"
    }
   ],
   "source": [
    "settles_data.count()"
   ]
  },
  {
   "cell_type": "code",
   "execution_count": 32,
   "metadata": {
    "collapsed": true
   },
   "outputs": [],
   "source": [
    "settles_data = settles_data[['#RIC','Date[L]','Settle']]"
   ]
  },
  {
   "cell_type": "code",
   "execution_count": 33,
   "metadata": {
    "collapsed": false
   },
   "outputs": [
    {
     "data": {
      "text/html": [
       "<div style=\"max-height:1000px;max-width:1500px;overflow:auto;\">\n",
       "<table border=\"1\" class=\"dataframe\">\n",
       "  <thead>\n",
       "    <tr style=\"text-align: right;\">\n",
       "      <th></th>\n",
       "      <th>#RIC</th>\n",
       "      <th>Date[L]</th>\n",
       "      <th>Settle</th>\n",
       "    </tr>\n",
       "  </thead>\n",
       "  <tbody>\n",
       "    <tr>\n",
       "      <th>1457</th>\n",
       "      <td>YIBZ5</td>\n",
       "      <td>22-JUN-2015</td>\n",
       "      <td>98.165</td>\n",
       "    </tr>\n",
       "    <tr>\n",
       "      <th>1458</th>\n",
       "      <td>YTCU5</td>\n",
       "      <td>22-JUN-2015</td>\n",
       "      <td>97.005</td>\n",
       "    </tr>\n",
       "    <tr>\n",
       "      <th>1459</th>\n",
       "      <td>YTCZ5</td>\n",
       "      <td>22-JUN-2015</td>\n",
       "      <td>97.005</td>\n",
       "    </tr>\n",
       "    <tr>\n",
       "      <th>1460</th>\n",
       "      <td>YTTU5</td>\n",
       "      <td>22-JUN-2015</td>\n",
       "      <td>98.030</td>\n",
       "    </tr>\n",
       "    <tr>\n",
       "      <th>1461</th>\n",
       "      <td>YTTZ5</td>\n",
       "      <td>22-JUN-2015</td>\n",
       "      <td>98.030</td>\n",
       "    </tr>\n",
       "  </tbody>\n",
       "</table>\n",
       "</div>"
      ],
      "text/plain": [
       "       #RIC      Date[L]  Settle\n",
       "1457  YIBZ5  22-JUN-2015  98.165\n",
       "1458  YTCU5  22-JUN-2015  97.005\n",
       "1459  YTCZ5  22-JUN-2015  97.005\n",
       "1460  YTTU5  22-JUN-2015  98.030\n",
       "1461  YTTZ5  22-JUN-2015  98.030"
      ]
     },
     "execution_count": 33,
     "metadata": {},
     "output_type": "execute_result"
    }
   ],
   "source": [
    "settles_data.tail()"
   ]
  },
  {
   "cell_type": "code",
   "execution_count": 34,
   "metadata": {
    "collapsed": true
   },
   "outputs": [],
   "source": [
    "settles_data.columns = ['RIC', 'Date', 'SettlePrice']"
   ]
  },
  {
   "cell_type": "code",
   "execution_count": 35,
   "metadata": {
    "collapsed": false
   },
   "outputs": [
    {
     "data": {
      "text/html": [
       "<div style=\"max-height:1000px;max-width:1500px;overflow:auto;\">\n",
       "<table border=\"1\" class=\"dataframe\">\n",
       "  <thead>\n",
       "    <tr style=\"text-align: right;\">\n",
       "      <th></th>\n",
       "      <th>RIC</th>\n",
       "      <th>Date</th>\n",
       "      <th>SettlePrice</th>\n",
       "    </tr>\n",
       "  </thead>\n",
       "  <tbody>\n",
       "    <tr>\n",
       "      <th>1457</th>\n",
       "      <td>YIBZ5</td>\n",
       "      <td>22-JUN-2015</td>\n",
       "      <td>98.165</td>\n",
       "    </tr>\n",
       "    <tr>\n",
       "      <th>1458</th>\n",
       "      <td>YTCU5</td>\n",
       "      <td>22-JUN-2015</td>\n",
       "      <td>97.005</td>\n",
       "    </tr>\n",
       "    <tr>\n",
       "      <th>1459</th>\n",
       "      <td>YTCZ5</td>\n",
       "      <td>22-JUN-2015</td>\n",
       "      <td>97.005</td>\n",
       "    </tr>\n",
       "    <tr>\n",
       "      <th>1460</th>\n",
       "      <td>YTTU5</td>\n",
       "      <td>22-JUN-2015</td>\n",
       "      <td>98.030</td>\n",
       "    </tr>\n",
       "    <tr>\n",
       "      <th>1461</th>\n",
       "      <td>YTTZ5</td>\n",
       "      <td>22-JUN-2015</td>\n",
       "      <td>98.030</td>\n",
       "    </tr>\n",
       "  </tbody>\n",
       "</table>\n",
       "</div>"
      ],
      "text/plain": [
       "        RIC         Date  SettlePrice\n",
       "1457  YIBZ5  22-JUN-2015       98.165\n",
       "1458  YTCU5  22-JUN-2015       97.005\n",
       "1459  YTCZ5  22-JUN-2015       97.005\n",
       "1460  YTTU5  22-JUN-2015       98.030\n",
       "1461  YTTZ5  22-JUN-2015       98.030"
      ]
     },
     "execution_count": 35,
     "metadata": {},
     "output_type": "execute_result"
    }
   ],
   "source": [
    "settles_data.tail()"
   ]
  },
  {
   "cell_type": "code",
   "execution_count": 37,
   "metadata": {
    "collapsed": false
   },
   "outputs": [],
   "source": [
    "settles_data['Date'] = pd.to_datetime(settles_data['Date'], format='%d-%b-%Y')"
   ]
  },
  {
   "cell_type": "code",
   "execution_count": 38,
   "metadata": {
    "collapsed": false
   },
   "outputs": [
    {
     "data": {
      "text/html": [
       "<div style=\"max-height:1000px;max-width:1500px;overflow:auto;\">\n",
       "<table border=\"1\" class=\"dataframe\">\n",
       "  <thead>\n",
       "    <tr style=\"text-align: right;\">\n",
       "      <th></th>\n",
       "      <th>RIC</th>\n",
       "      <th>Date</th>\n",
       "      <th>SettlePrice</th>\n",
       "    </tr>\n",
       "  </thead>\n",
       "  <tbody>\n",
       "    <tr>\n",
       "      <th>1457</th>\n",
       "      <td>YIBZ5</td>\n",
       "      <td>2015-06-22</td>\n",
       "      <td>98.165</td>\n",
       "    </tr>\n",
       "    <tr>\n",
       "      <th>1458</th>\n",
       "      <td>YTCU5</td>\n",
       "      <td>2015-06-22</td>\n",
       "      <td>97.005</td>\n",
       "    </tr>\n",
       "    <tr>\n",
       "      <th>1459</th>\n",
       "      <td>YTCZ5</td>\n",
       "      <td>2015-06-22</td>\n",
       "      <td>97.005</td>\n",
       "    </tr>\n",
       "    <tr>\n",
       "      <th>1460</th>\n",
       "      <td>YTTU5</td>\n",
       "      <td>2015-06-22</td>\n",
       "      <td>98.030</td>\n",
       "    </tr>\n",
       "    <tr>\n",
       "      <th>1461</th>\n",
       "      <td>YTTZ5</td>\n",
       "      <td>2015-06-22</td>\n",
       "      <td>98.030</td>\n",
       "    </tr>\n",
       "  </tbody>\n",
       "</table>\n",
       "</div>"
      ],
      "text/plain": [
       "        RIC       Date  SettlePrice\n",
       "1457  YIBZ5 2015-06-22       98.165\n",
       "1458  YTCU5 2015-06-22       97.005\n",
       "1459  YTCZ5 2015-06-22       97.005\n",
       "1460  YTTU5 2015-06-22       98.030\n",
       "1461  YTTZ5 2015-06-22       98.030"
      ]
     },
     "execution_count": 38,
     "metadata": {},
     "output_type": "execute_result"
    }
   ],
   "source": [
    "settles_data.tail()"
   ]
  },
  {
   "cell_type": "code",
   "execution_count": 75,
   "metadata": {
    "collapsed": true
   },
   "outputs": [],
   "source": [
    "settles_data.RIC = settles_data.RIC.str.lstrip('1')"
   ]
  },
  {
   "cell_type": "code",
   "execution_count": 4,
   "metadata": {
    "collapsed": false
   },
   "outputs": [],
   "source": [
    "old_settles = pd.read_csv(\"/home/ksharma/dev/kaqt/data/settles/OldSettles.csv\")"
   ]
  },
  {
   "cell_type": "code",
   "execution_count": 5,
   "metadata": {
    "collapsed": false
   },
   "outputs": [
    {
     "data": {
      "text/html": [
       "<div style=\"max-height:1000px;max-width:1500px;overflow:auto;\">\n",
       "<table border=\"1\" class=\"dataframe\">\n",
       "  <thead>\n",
       "    <tr style=\"text-align: right;\">\n",
       "      <th></th>\n",
       "      <th>RIC</th>\n",
       "      <th>Date</th>\n",
       "      <th>SettlePrice</th>\n",
       "    </tr>\n",
       "  </thead>\n",
       "  <tbody>\n",
       "    <tr>\n",
       "      <th>1964700</th>\n",
       "      <td>ZWZ5</td>\n",
       "      <td>2014-05-23</td>\n",
       "      <td>724.50</td>\n",
       "    </tr>\n",
       "    <tr>\n",
       "      <th>1964701</th>\n",
       "      <td>ZWZ5</td>\n",
       "      <td>2014-05-27</td>\n",
       "      <td>712.75</td>\n",
       "    </tr>\n",
       "    <tr>\n",
       "      <th>1964702</th>\n",
       "      <td>ZWZ5</td>\n",
       "      <td>2014-05-28</td>\n",
       "      <td>712.50</td>\n",
       "    </tr>\n",
       "    <tr>\n",
       "      <th>1964703</th>\n",
       "      <td>ZWZ5</td>\n",
       "      <td>2014-05-29</td>\n",
       "      <td>707.00</td>\n",
       "    </tr>\n",
       "    <tr>\n",
       "      <th>1964704</th>\n",
       "      <td>ZWZ5</td>\n",
       "      <td>2014-05-30</td>\n",
       "      <td>706.75</td>\n",
       "    </tr>\n",
       "  </tbody>\n",
       "</table>\n",
       "</div>"
      ],
      "text/plain": [
       "          RIC        Date  SettlePrice\n",
       "1964700  ZWZ5  2014-05-23       724.50\n",
       "1964701  ZWZ5  2014-05-27       712.75\n",
       "1964702  ZWZ5  2014-05-28       712.50\n",
       "1964703  ZWZ5  2014-05-29       707.00\n",
       "1964704  ZWZ5  2014-05-30       706.75"
      ]
     },
     "execution_count": 5,
     "metadata": {},
     "output_type": "execute_result"
    }
   ],
   "source": [
    "old_settles.tail()"
   ]
  },
  {
   "cell_type": "code",
   "execution_count": 13,
   "metadata": {
    "collapsed": true
   },
   "outputs": [],
   "source": [
    "import datetime"
   ]
  },
  {
   "cell_type": "code",
   "execution_count": 6,
   "metadata": {
    "collapsed": false
   },
   "outputs": [],
   "source": [
    "old_settles.Date = pd.to_datetime(old_settles.Date, format='%Y-%m-%d').apply(lambda x : int(x.strftime(\"%Y%m%d\")))"
   ]
  },
  {
   "cell_type": "code",
   "execution_count": 7,
   "metadata": {
    "collapsed": true
   },
   "outputs": [],
   "source": [
    "from tables import *"
   ]
  },
  {
   "cell_type": "code",
   "execution_count": 8,
   "metadata": {
    "collapsed": true
   },
   "outputs": [],
   "source": [
    "class ReutersSettlePrice(IsDescription):\n",
    "    ric = StringCol(itemsize=10)\n",
    "    date = Int32Col()\n",
    "    price = Float64Col()"
   ]
  },
  {
   "cell_type": "code",
   "execution_count": 9,
   "metadata": {
    "collapsed": false
   },
   "outputs": [],
   "source": [
    "store = open_file(\"settles.h5\", mode = \"w\")"
   ]
  },
  {
   "cell_type": "code",
   "execution_count": 10,
   "metadata": {
    "collapsed": true
   },
   "outputs": [],
   "source": [
    "root = store.root"
   ]
  },
  {
   "cell_type": "code",
   "execution_count": 11,
   "metadata": {
    "collapsed": true
   },
   "outputs": [],
   "source": [
    "old_group = store.create_group(root, \"Old\")"
   ]
  },
  {
   "cell_type": "code",
   "execution_count": 12,
   "metadata": {
    "collapsed": false
   },
   "outputs": [],
   "source": [
    "table = store.create_table(old_group, \"old_settles\", ReutersSettlePrice)"
   ]
  },
  {
   "cell_type": "code",
   "execution_count": 13,
   "metadata": {
    "collapsed": true
   },
   "outputs": [],
   "source": [
    "row = table.row"
   ]
  },
  {
   "cell_type": "code",
   "execution_count": 14,
   "metadata": {
    "collapsed": false
   },
   "outputs": [
    {
     "data": {
      "text/html": [
       "<div style=\"max-height:1000px;max-width:1500px;overflow:auto;\">\n",
       "<table border=\"1\" class=\"dataframe\">\n",
       "  <thead>\n",
       "    <tr style=\"text-align: right;\">\n",
       "      <th></th>\n",
       "      <th>RIC</th>\n",
       "      <th>Date</th>\n",
       "      <th>SettlePrice</th>\n",
       "    </tr>\n",
       "  </thead>\n",
       "  <tbody>\n",
       "    <tr>\n",
       "      <th>1964700</th>\n",
       "      <td>ZWZ5</td>\n",
       "      <td>20140523</td>\n",
       "      <td>724.50</td>\n",
       "    </tr>\n",
       "    <tr>\n",
       "      <th>1964701</th>\n",
       "      <td>ZWZ5</td>\n",
       "      <td>20140527</td>\n",
       "      <td>712.75</td>\n",
       "    </tr>\n",
       "    <tr>\n",
       "      <th>1964702</th>\n",
       "      <td>ZWZ5</td>\n",
       "      <td>20140528</td>\n",
       "      <td>712.50</td>\n",
       "    </tr>\n",
       "    <tr>\n",
       "      <th>1964703</th>\n",
       "      <td>ZWZ5</td>\n",
       "      <td>20140529</td>\n",
       "      <td>707.00</td>\n",
       "    </tr>\n",
       "    <tr>\n",
       "      <th>1964704</th>\n",
       "      <td>ZWZ5</td>\n",
       "      <td>20140530</td>\n",
       "      <td>706.75</td>\n",
       "    </tr>\n",
       "  </tbody>\n",
       "</table>\n",
       "</div>"
      ],
      "text/plain": [
       "          RIC      Date  SettlePrice\n",
       "1964700  ZWZ5  20140523       724.50\n",
       "1964701  ZWZ5  20140527       712.75\n",
       "1964702  ZWZ5  20140528       712.50\n",
       "1964703  ZWZ5  20140529       707.00\n",
       "1964704  ZWZ5  20140530       706.75"
      ]
     },
     "execution_count": 14,
     "metadata": {},
     "output_type": "execute_result"
    }
   ],
   "source": [
    "old_settles.tail()"
   ]
  },
  {
   "cell_type": "code",
   "execution_count": 15,
   "metadata": {
    "collapsed": false
   },
   "outputs": [],
   "source": [
    "for i in old_settles.index:\n",
    "    row['ric'] = old_settles.ix[i, 'RIC']\n",
    "    row['date'] = old_settles.ix[i, 'Date']\n",
    "    row['price'] = old_settles.ix[i, 'SettlePrice']\n",
    "    row.append()\n",
    "table.flush()"
   ]
  },
  {
   "cell_type": "code",
   "execution_count": 16,
   "metadata": {
    "collapsed": true
   },
   "outputs": [],
   "source": [
    "table.flush()"
   ]
  },
  {
   "cell_type": "code",
   "execution_count": 17,
   "metadata": {
    "collapsed": true
   },
   "outputs": [],
   "source": [
    "store.flush()"
   ]
  },
  {
   "cell_type": "code",
   "execution_count": 18,
   "metadata": {
    "collapsed": true
   },
   "outputs": [],
   "source": [
    "store.close()"
   ]
  },
  {
   "cell_type": "code",
   "execution_count": null,
   "metadata": {
    "collapsed": true
   },
   "outputs": [],
   "source": [
    "store = pd.HDFStore('settles.h5', complevel=9, complib='bzip2')"
   ]
  },
  {
   "cell_type": "code",
   "execution_count": 52,
   "metadata": {
    "collapsed": false
   },
   "outputs": [],
   "source": [
    "data = store.get('Old/old_settles')"
   ]
  },
  {
   "cell_type": "code",
   "execution_count": 53,
   "metadata": {
    "collapsed": false
   },
   "outputs": [
    {
     "data": {
      "text/html": [
       "<div style=\"max-height:1000px;max-width:1500px;overflow:auto;\">\n",
       "<table border=\"1\" class=\"dataframe\">\n",
       "  <thead>\n",
       "    <tr style=\"text-align: right;\">\n",
       "      <th></th>\n",
       "      <th>date</th>\n",
       "      <th>speed</th>\n",
       "      <th>symbol</th>\n",
       "    </tr>\n",
       "  </thead>\n",
       "  <tbody>\n",
       "    <tr>\n",
       "      <th>1964700</th>\n",
       "      <td>20140523</td>\n",
       "      <td>724.50</td>\n",
       "      <td>ZWZ5</td>\n",
       "    </tr>\n",
       "    <tr>\n",
       "      <th>1964701</th>\n",
       "      <td>20140527</td>\n",
       "      <td>712.75</td>\n",
       "      <td>ZWZ5</td>\n",
       "    </tr>\n",
       "    <tr>\n",
       "      <th>1964702</th>\n",
       "      <td>20140528</td>\n",
       "      <td>712.50</td>\n",
       "      <td>ZWZ5</td>\n",
       "    </tr>\n",
       "    <tr>\n",
       "      <th>1964703</th>\n",
       "      <td>20140529</td>\n",
       "      <td>707.00</td>\n",
       "      <td>ZWZ5</td>\n",
       "    </tr>\n",
       "    <tr>\n",
       "      <th>1964704</th>\n",
       "      <td>20140530</td>\n",
       "      <td>706.75</td>\n",
       "      <td>ZWZ5</td>\n",
       "    </tr>\n",
       "  </tbody>\n",
       "</table>\n",
       "</div>"
      ],
      "text/plain": [
       "             date   speed symbol\n",
       "1964700  20140523  724.50   ZWZ5\n",
       "1964701  20140527  712.75   ZWZ5\n",
       "1964702  20140528  712.50   ZWZ5\n",
       "1964703  20140529  707.00   ZWZ5\n",
       "1964704  20140530  706.75   ZWZ5"
      ]
     },
     "execution_count": 53,
     "metadata": {},
     "output_type": "execute_result"
    }
   ],
   "source": [
    "data.tail()"
   ]
  },
  {
   "cell_type": "code",
   "execution_count": 54,
   "metadata": {
    "collapsed": true
   },
   "outputs": [],
   "source": [
    "store.close()"
   ]
  },
  {
   "cell_type": "code",
   "execution_count": null,
   "metadata": {
    "collapsed": true
   },
   "outputs": [],
   "source": []
  }
 ],
 "metadata": {
  "kernelspec": {
   "display_name": "Python 3",
   "language": "python",
   "name": "python3"
  },
  "language_info": {
   "codemirror_mode": {
    "name": "ipython",
    "version": 3
   },
   "file_extension": ".py",
   "mimetype": "text/x-python",
   "name": "python",
   "nbconvert_exporter": "python",
   "pygments_lexer": "ipython3",
   "version": "3.4.1"
  }
 },
 "nbformat": 4,
 "nbformat_minor": 0
}
