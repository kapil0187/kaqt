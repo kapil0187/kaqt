{
 "cells": [
  {
   "cell_type": "code",
   "execution_count": 31,
   "metadata": {
    "collapsed": false
   },
   "outputs": [],
   "source": [
    "import pandas as pd\n",
    "import numpy as np\n",
    "import matplotlib.pyplot as plt"
   ]
  },
  {
   "cell_type": "code",
   "execution_count": 2,
   "metadata": {
    "collapsed": true
   },
   "outputs": [],
   "source": [
    "pd.options.display.notebook_repr_html = False"
   ]
  },
  {
   "cell_type": "code",
   "execution_count": 3,
   "metadata": {
    "collapsed": false
   },
   "outputs": [
    {
     "name": "stderr",
     "output_type": "stream",
     "text": [
      "/usr/lib64/python3.4/site-packages/pandas/io/parsers.py:1170: DtypeWarning: Columns (8,16,20,27,37,38,43,44,45,46,47) have mixed types. Specify dtype option on import or set low_memory=False.\n",
      "  data = self._reader.read(nrows)\n"
     ]
    }
   ],
   "source": [
    "fprf = pd.read_csv(\"./cmeg.fut.prf.csv\")"
   ]
  },
  {
   "cell_type": "code",
   "execution_count": 4,
   "metadata": {
    "collapsed": false
   },
   "outputs": [
    {
     "data": {
      "text/plain": [
       "Index(['RptID', 'BizDt', 'InitMargin', 'MaintMargin', 'ID', 'Exch', 'Sym',\n",
       "       'Desc', 'MMY', 'ProdCmplx', 'Status', 'SecTyp', 'MatDt', 'FlexProdElig',\n",
       "       'ListMeth', 'UOM', 'UOMCcy', 'UOMQty', 'Mult', 'PxUOM', 'PxUOMCcy',\n",
       "       'PxUOMQty', 'PxQteMeth', 'SettlMeth', 'MinPxIncr', 'PxQteCcy',\n",
       "       'FlexInd', 'FnlSettleCcy', 'ValMeth', 'ClrAlias', 'TCCAlias',\n",
       "       'ITCAlias', 'GBXAlias', 'FirstTrdDt', 'LastTrdDt', 'FirstDlvDt',\n",
       "       'LastDlvDt', 'InitInvDt', 'FnlInvDt', 'FirstIntDt', 'LastIntDt',\n",
       "       'PosRemovDt', 'FirstNoticeDt', 'LastNoticeDt', 'LastEFPDt',\n",
       "       'FirstBlockTASDt', 'LastBlockTASDt', 'ErosionStartDt', 'PxTickRule',\n",
       "       'EligForRegular', 'EligForBlock', 'EligForEFP', 'EligForEFR',\n",
       "       'EligForEFS', 'EligForPNT', 'EligForTransfer', 'EligForOTC',\n",
       "       'EligForGenericPNT', 'Denom', 'Numer', 'FracPxPrec', 'StrkPxPrec',\n",
       "       'Tradable', 'NegSettlElig', 'MktID', 'MktSegID', 'StartTickPxRngReg',\n",
       "       'EndTickPxRngReg', 'TickIncrReg', 'StartTickPxRngVar',\n",
       "       'EndTickPxRngVar', 'TickIncrVar', 'StartTickPxRngFixed',\n",
       "       'EndTickPxRngFixed', 'TickIncrFixed', 'StartTickPxRngSprdLeg',\n",
       "       'EndTickPxRngSprdLeg', 'TickIncrSprdLeg', 'StartTickPxRngStlSprdLeg',\n",
       "       'EndTickPxRngStlSprdLeg', 'TickIncrStlSprdLeg'],\n",
       "      dtype='object')"
      ]
     },
     "execution_count": 4,
     "metadata": {},
     "output_type": "execute_result"
    }
   ],
   "source": [
    "fprf.columns"
   ]
  },
  {
   "cell_type": "code",
   "execution_count": 5,
   "metadata": {
    "collapsed": true
   },
   "outputs": [],
   "source": [
    "fprf=fprf[['ITCAlias', 'Sym', 'Desc', 'MMY', 'MktID', 'Exch', 'MatDt', 'TickIncrReg', 'PxQteCcy']]"
   ]
  },
  {
   "cell_type": "code",
   "execution_count": 6,
   "metadata": {
    "collapsed": false
   },
   "outputs": [
    {
     "data": {
      "text/plain": [
       "      ITCAlias  Sym                               Desc       MMY MktID   Exch  \\\n",
       "63881  LSFK018  LSF  CLEARED OTC LONDON SILVER FWD(CM)  20200518   CME  COMEX   \n",
       "63882  LSFK019  LSF  CLEARED OTC LONDON SILVER FWD(CM)  20200519   CME  COMEX   \n",
       "63883  LSFK020  LSF  CLEARED OTC LONDON SILVER FWD(CM)  20200520   CME  COMEX   \n",
       "63884  LSFK021  LSF  CLEARED OTC LONDON SILVER FWD(CM)  20200521   CME  COMEX   \n",
       "63885  LSFK022  LSF  CLEARED OTC LONDON SILVER FWD(CM)  20200522   CME  COMEX   \n",
       "\n",
       "            MatDt  TickIncrReg PxQteCcy  \n",
       "63881  2020-05-15      0.00001      USD  \n",
       "63882  2020-05-18      0.00001      USD  \n",
       "63883  2020-05-19      0.00001      USD  \n",
       "63884  2020-05-20      0.00001      USD  \n",
       "63885  2020-05-21      0.00001      USD  "
      ]
     },
     "execution_count": 6,
     "metadata": {},
     "output_type": "execute_result"
    }
   ],
   "source": [
    "fprf.tail()"
   ]
  },
  {
   "cell_type": "code",
   "execution_count": 7,
   "metadata": {
    "collapsed": false
   },
   "outputs": [],
   "source": [
    "fprf = fprf[fprf.Sym == 'GE']"
   ]
  },
  {
   "cell_type": "code",
   "execution_count": 8,
   "metadata": {
    "collapsed": false
   },
   "outputs": [
    {
     "data": {
      "text/plain": [
       "    ITCAlias Sym                Desc     MMY MktID Exch       MatDt  \\\n",
       "179     GEH4  GE  EURODOLLAR FUTURES  202403   CME  CME  2024-03-18   \n",
       "180     GEM4  GE  EURODOLLAR FUTURES  202406   CME  CME  2024-06-17   \n",
       "181     GEU4  GE  EURODOLLAR FUTURES  202409   CME  CME  2024-09-16   \n",
       "182     GEZ4  GE  EURODOLLAR FUTURES  202412   CME  CME  2024-12-16   \n",
       "183     GEH5  GE  EURODOLLAR FUTURES  202503   CME  CME  2025-03-17   \n",
       "\n",
       "     TickIncrReg PxQteCcy  \n",
       "179        0.005      USD  \n",
       "180        0.005      USD  \n",
       "181        0.005      USD  \n",
       "182        0.005      USD  \n",
       "183        0.005      USD  "
      ]
     },
     "execution_count": 8,
     "metadata": {},
     "output_type": "execute_result"
    }
   ],
   "source": [
    "fprf.tail()"
   ]
  },
  {
   "cell_type": "code",
   "execution_count": 9,
   "metadata": {
    "collapsed": true
   },
   "outputs": [],
   "source": [
    "import datetime"
   ]
  },
  {
   "cell_type": "code",
   "execution_count": 10,
   "metadata": {
    "collapsed": false
   },
   "outputs": [],
   "source": [
    "fprf.MMY = pd.to_datetime(fprf.MMY, format='%Y%m')"
   ]
  },
  {
   "cell_type": "code",
   "execution_count": 11,
   "metadata": {
    "collapsed": false
   },
   "outputs": [],
   "source": [
    "fprf.MMY = fprf.MMY.apply(lambda x : x.strftime('%B-%Y'))"
   ]
  },
  {
   "cell_type": "code",
   "execution_count": 12,
   "metadata": {
    "collapsed": false
   },
   "outputs": [
    {
     "data": {
      "text/plain": [
       "    ITCAlias Sym                Desc             MMY MktID Exch       MatDt  \\\n",
       "179     GEH4  GE  EURODOLLAR FUTURES      March-2024   CME  CME  2024-03-18   \n",
       "180     GEM4  GE  EURODOLLAR FUTURES       June-2024   CME  CME  2024-06-17   \n",
       "181     GEU4  GE  EURODOLLAR FUTURES  September-2024   CME  CME  2024-09-16   \n",
       "182     GEZ4  GE  EURODOLLAR FUTURES   December-2024   CME  CME  2024-12-16   \n",
       "183     GEH5  GE  EURODOLLAR FUTURES      March-2025   CME  CME  2025-03-17   \n",
       "\n",
       "     TickIncrReg PxQteCcy  \n",
       "179        0.005      USD  \n",
       "180        0.005      USD  \n",
       "181        0.005      USD  \n",
       "182        0.005      USD  \n",
       "183        0.005      USD  "
      ]
     },
     "execution_count": 12,
     "metadata": {},
     "output_type": "execute_result"
    }
   ],
   "source": [
    "fprf.tail()"
   ]
  },
  {
   "cell_type": "code",
   "execution_count": 13,
   "metadata": {
    "collapsed": false
   },
   "outputs": [],
   "source": [
    "fprf.Desc = fprf.Desc.map(str) + \" \" + fprf.MMY"
   ]
  },
  {
   "cell_type": "code",
   "execution_count": 14,
   "metadata": {
    "collapsed": false
   },
   "outputs": [
    {
     "data": {
      "text/plain": [
       "    ITCAlias Sym                               Desc             MMY MktID  \\\n",
       "179     GEH4  GE      EURODOLLAR FUTURES March-2024      March-2024   CME   \n",
       "180     GEM4  GE       EURODOLLAR FUTURES June-2024       June-2024   CME   \n",
       "181     GEU4  GE  EURODOLLAR FUTURES September-2024  September-2024   CME   \n",
       "182     GEZ4  GE   EURODOLLAR FUTURES December-2024   December-2024   CME   \n",
       "183     GEH5  GE      EURODOLLAR FUTURES March-2025      March-2025   CME   \n",
       "\n",
       "    Exch       MatDt  TickIncrReg PxQteCcy  \n",
       "179  CME  2024-03-18        0.005      USD  \n",
       "180  CME  2024-06-17        0.005      USD  \n",
       "181  CME  2024-09-16        0.005      USD  \n",
       "182  CME  2024-12-16        0.005      USD  \n",
       "183  CME  2025-03-17        0.005      USD  "
      ]
     },
     "execution_count": 14,
     "metadata": {},
     "output_type": "execute_result"
    }
   ],
   "source": [
    "fprf.tail()"
   ]
  },
  {
   "cell_type": "code",
   "execution_count": 15,
   "metadata": {
    "collapsed": false
   },
   "outputs": [],
   "source": [
    "fprf.MatDt = pd.to_datetime(fprf.MatDt, \"%Y-%m-%d\")"
   ]
  },
  {
   "cell_type": "code",
   "execution_count": 16,
   "metadata": {
    "collapsed": true
   },
   "outputs": [],
   "source": [
    "from time import mktime"
   ]
  },
  {
   "cell_type": "code",
   "execution_count": 17,
   "metadata": {
    "collapsed": false
   },
   "outputs": [],
   "source": [
    "fprf.MatDt = fprf.MatDt.apply(lambda x : mktime(x.timetuple()))"
   ]
  },
  {
   "cell_type": "code",
   "execution_count": 18,
   "metadata": {
    "collapsed": false
   },
   "outputs": [
    {
     "data": {
      "text/plain": [
       "    ITCAlias Sym                               Desc             MMY MktID  \\\n",
       "179     GEH4  GE      EURODOLLAR FUTURES March-2024      March-2024   CME   \n",
       "180     GEM4  GE       EURODOLLAR FUTURES June-2024       June-2024   CME   \n",
       "181     GEU4  GE  EURODOLLAR FUTURES September-2024  September-2024   CME   \n",
       "182     GEZ4  GE   EURODOLLAR FUTURES December-2024   December-2024   CME   \n",
       "183     GEH5  GE      EURODOLLAR FUTURES March-2025      March-2025   CME   \n",
       "\n",
       "    Exch       MatDt  TickIncrReg PxQteCcy  \n",
       "179  CME  1710738000        0.005      USD  \n",
       "180  CME  1718600400        0.005      USD  \n",
       "181  CME  1726462800        0.005      USD  \n",
       "182  CME  1734328800        0.005      USD  \n",
       "183  CME  1742187600        0.005      USD  "
      ]
     },
     "execution_count": 18,
     "metadata": {},
     "output_type": "execute_result"
    }
   ],
   "source": [
    "fprf.tail()"
   ]
  },
  {
   "cell_type": "code",
   "execution_count": 19,
   "metadata": {
    "collapsed": false
   },
   "outputs": [],
   "source": [
    "del fprf['MMY']"
   ]
  },
  {
   "cell_type": "code",
   "execution_count": 20,
   "metadata": {
    "collapsed": false
   },
   "outputs": [],
   "source": [
    "fprf.columns = ['ticker', 'underlying', 'description',  'exchange_group', 'exchange', 'expiry_posix_datetime',\n",
    "               'tick_size', 'currency']"
   ]
  },
  {
   "cell_type": "code",
   "execution_count": 21,
   "metadata": {
    "collapsed": false
   },
   "outputs": [
    {
     "data": {
      "text/plain": [
       "    ticker underlying                        description exchange_group  \\\n",
       "179   GEH4         GE      EURODOLLAR FUTURES March-2024            CME   \n",
       "180   GEM4         GE       EURODOLLAR FUTURES June-2024            CME   \n",
       "181   GEU4         GE  EURODOLLAR FUTURES September-2024            CME   \n",
       "182   GEZ4         GE   EURODOLLAR FUTURES December-2024            CME   \n",
       "183   GEH5         GE      EURODOLLAR FUTURES March-2025            CME   \n",
       "\n",
       "    exchange  expiry_posix_datetime  tick_size currency  \n",
       "179      CME             1710738000      0.005      USD  \n",
       "180      CME             1718600400      0.005      USD  \n",
       "181      CME             1726462800      0.005      USD  \n",
       "182      CME             1734328800      0.005      USD  \n",
       "183      CME             1742187600      0.005      USD  "
      ]
     },
     "execution_count": 21,
     "metadata": {},
     "output_type": "execute_result"
    }
   ],
   "source": [
    "fprf.tail()"
   ]
  },
  {
   "cell_type": "code",
   "execution_count": 22,
   "metadata": {
    "collapsed": true
   },
   "outputs": [],
   "source": [
    "fprf['tradeable_tick_size'] = fprf.tick_size"
   ]
  },
  {
   "cell_type": "code",
   "execution_count": 23,
   "metadata": {
    "collapsed": true
   },
   "outputs": [],
   "source": [
    "fprf['min_order_size'] = 1"
   ]
  },
  {
   "cell_type": "code",
   "execution_count": 24,
   "metadata": {
    "collapsed": false
   },
   "outputs": [
    {
     "data": {
      "text/plain": [
       "    ticker underlying                        description exchange_group  \\\n",
       "179   GEH4         GE      EURODOLLAR FUTURES March-2024            CME   \n",
       "180   GEM4         GE       EURODOLLAR FUTURES June-2024            CME   \n",
       "181   GEU4         GE  EURODOLLAR FUTURES September-2024            CME   \n",
       "182   GEZ4         GE   EURODOLLAR FUTURES December-2024            CME   \n",
       "183   GEH5         GE      EURODOLLAR FUTURES March-2025            CME   \n",
       "\n",
       "    exchange  expiry_posix_datetime  tick_size currency  tradeable_tick_size  \\\n",
       "179      CME             1710738000      0.005      USD                0.005   \n",
       "180      CME             1718600400      0.005      USD                0.005   \n",
       "181      CME             1726462800      0.005      USD                0.005   \n",
       "182      CME             1734328800      0.005      USD                0.005   \n",
       "183      CME             1742187600      0.005      USD                0.005   \n",
       "\n",
       "     min_order_size  \n",
       "179               1  \n",
       "180               1  \n",
       "181               1  \n",
       "182               1  \n",
       "183               1  "
      ]
     },
     "execution_count": 24,
     "metadata": {},
     "output_type": "execute_result"
    }
   ],
   "source": [
    "fprf.tail()"
   ]
  },
  {
   "cell_type": "code",
   "execution_count": 25,
   "metadata": {
    "collapsed": false
   },
   "outputs": [],
   "source": [
    "fprf = fprf.reset_index()"
   ]
  },
  {
   "cell_type": "code",
   "execution_count": 26,
   "metadata": {
    "collapsed": false
   },
   "outputs": [],
   "source": [
    "fprf['id'] = fprf.index + 1"
   ]
  },
  {
   "cell_type": "code",
   "execution_count": 27,
   "metadata": {
    "collapsed": false
   },
   "outputs": [],
   "source": [
    "fprf_dict = fprf.transpose().to_dict()"
   ]
  },
  {
   "cell_type": "code",
   "execution_count": 28,
   "metadata": {
    "collapsed": true
   },
   "outputs": [],
   "source": [
    "import pymongo as pm"
   ]
  },
  {
   "cell_type": "code",
   "execution_count": 29,
   "metadata": {
    "collapsed": false
   },
   "outputs": [],
   "source": [
    "db = pm.MongoClient().kaqt"
   ]
  },
  {
   "cell_type": "code",
   "execution_count": 30,
   "metadata": {
    "collapsed": false
   },
   "outputs": [],
   "source": [
    "for k in fprf_dict.keys():\n",
    "    db.symbology.insert(fprf_dict[k])"
   ]
  },
  {
   "cell_type": "code",
   "execution_count": null,
   "metadata": {
    "collapsed": true
   },
   "outputs": [],
   "source": []
  }
 ],
 "metadata": {
  "kernelspec": {
   "display_name": "Python 3",
   "language": "python",
   "name": "python3"
  },
  "language_info": {
   "codemirror_mode": {
    "name": "ipython",
    "version": 3
   },
   "file_extension": ".py",
   "mimetype": "text/x-python",
   "name": "python",
   "nbconvert_exporter": "python",
   "pygments_lexer": "ipython3",
   "version": "3.4.1"
  }
 },
 "nbformat": 4,
 "nbformat_minor": 0
}
