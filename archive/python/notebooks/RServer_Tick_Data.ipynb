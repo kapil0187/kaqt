{
 "cells": [
  {
   "cell_type": "code",
   "execution_count": 25,
   "metadata": {
    "collapsed": true
   },
   "outputs": [],
   "source": [
    "import pandas as pd\n",
    "import gzip"
   ]
  },
  {
   "cell_type": "code",
   "execution_count": 26,
   "metadata": {
    "collapsed": false
   },
   "outputs": [],
   "source": [
    "data_file = \"./data/2015.02.19.NGF6.csv.gz\"\n",
    "data_csv = gzip.open(data_file, 'r')\n",
    "data = pd.read_csv(data_csv, parse_dates={'DateTime': ['Date[G]', 'Time[G]']})\n",
    "data = data.set_index('DateTime')\n",
    "data_csv.close()"
   ]
  },
  {
   "cell_type": "code",
   "execution_count": 27,
   "metadata": {
    "collapsed": false
   },
   "outputs": [
    {
     "data": {
      "text/html": [
       "<div style=\"max-height:1000px;max-width:1500px;overflow:auto;\">\n",
       "<table border=\"1\" class=\"dataframe\">\n",
       "  <thead>\n",
       "    <tr style=\"text-align: right;\">\n",
       "      <th></th>\n",
       "      <th>#RIC</th>\n",
       "      <th>GMT Offset</th>\n",
       "      <th>Type</th>\n",
       "      <th>Price</th>\n",
       "      <th>Volume</th>\n",
       "      <th>Bid Price</th>\n",
       "      <th>Bid Size</th>\n",
       "      <th>Ask Price</th>\n",
       "      <th>Ask Size</th>\n",
       "      <th>Qualifiers</th>\n",
       "      <th>New Price</th>\n",
       "      <th>New Vol</th>\n",
       "    </tr>\n",
       "    <tr>\n",
       "      <th>DateTime</th>\n",
       "      <th></th>\n",
       "      <th></th>\n",
       "      <th></th>\n",
       "      <th></th>\n",
       "      <th></th>\n",
       "      <th></th>\n",
       "      <th></th>\n",
       "      <th></th>\n",
       "      <th></th>\n",
       "      <th></th>\n",
       "      <th></th>\n",
       "      <th></th>\n",
       "    </tr>\n",
       "  </thead>\n",
       "  <tbody>\n",
       "    <tr>\n",
       "      <th>2015-02-19 23:00:15.911660</th>\n",
       "      <td>NGF6</td>\n",
       "      <td>-5</td>\n",
       "      <td>Quote</td>\n",
       "      <td>NaN</td>\n",
       "      <td>NaN</td>\n",
       "      <td>3.324</td>\n",
       "      <td>1</td>\n",
       "      <td>NaN</td>\n",
       "      <td>NaN</td>\n",
       "      <td>BBO[MKT_ST_IND]</td>\n",
       "      <td>NaN</td>\n",
       "      <td>NaN</td>\n",
       "    </tr>\n",
       "    <tr>\n",
       "      <th>2015-02-19 23:04:07.915206</th>\n",
       "      <td>NGF6</td>\n",
       "      <td>-5</td>\n",
       "      <td>Quote</td>\n",
       "      <td>NaN</td>\n",
       "      <td>NaN</td>\n",
       "      <td>3.322</td>\n",
       "      <td>1</td>\n",
       "      <td>NaN</td>\n",
       "      <td>NaN</td>\n",
       "      <td>BBO[MKT_ST_IND]</td>\n",
       "      <td>NaN</td>\n",
       "      <td>NaN</td>\n",
       "    </tr>\n",
       "    <tr>\n",
       "      <th>2015-02-19 23:12:17.686884</th>\n",
       "      <td>NGF6</td>\n",
       "      <td>-5</td>\n",
       "      <td>Quote</td>\n",
       "      <td>NaN</td>\n",
       "      <td>NaN</td>\n",
       "      <td>3.312</td>\n",
       "      <td>1</td>\n",
       "      <td>NaN</td>\n",
       "      <td>NaN</td>\n",
       "      <td>BBO[MKT_ST_IND]</td>\n",
       "      <td>NaN</td>\n",
       "      <td>NaN</td>\n",
       "    </tr>\n",
       "    <tr>\n",
       "      <th>2015-02-19 23:31:59.319521</th>\n",
       "      <td>NGF6</td>\n",
       "      <td>-5</td>\n",
       "      <td>Quote</td>\n",
       "      <td>NaN</td>\n",
       "      <td>NaN</td>\n",
       "      <td>3.320</td>\n",
       "      <td>1</td>\n",
       "      <td>NaN</td>\n",
       "      <td>NaN</td>\n",
       "      <td>BBO[MKT_ST_IND]</td>\n",
       "      <td>NaN</td>\n",
       "      <td>NaN</td>\n",
       "    </tr>\n",
       "    <tr>\n",
       "      <th>2015-02-19 23:49:24.193869</th>\n",
       "      <td>NGF6</td>\n",
       "      <td>-5</td>\n",
       "      <td>Quote</td>\n",
       "      <td>NaN</td>\n",
       "      <td>NaN</td>\n",
       "      <td>3.312</td>\n",
       "      <td>1</td>\n",
       "      <td>NaN</td>\n",
       "      <td>NaN</td>\n",
       "      <td>BBO[MKT_ST_IND]</td>\n",
       "      <td>NaN</td>\n",
       "      <td>NaN</td>\n",
       "    </tr>\n",
       "  </tbody>\n",
       "</table>\n",
       "</div>"
      ],
      "text/plain": [
       "                            #RIC  GMT Offset   Type  Price  Volume  Bid Price  \\\n",
       "DateTime                                                                        \n",
       "2015-02-19 23:00:15.911660  NGF6          -5  Quote    NaN     NaN      3.324   \n",
       "2015-02-19 23:04:07.915206  NGF6          -5  Quote    NaN     NaN      3.322   \n",
       "2015-02-19 23:12:17.686884  NGF6          -5  Quote    NaN     NaN      3.312   \n",
       "2015-02-19 23:31:59.319521  NGF6          -5  Quote    NaN     NaN      3.320   \n",
       "2015-02-19 23:49:24.193869  NGF6          -5  Quote    NaN     NaN      3.312   \n",
       "\n",
       "                            Bid Size  Ask Price  Ask Size       Qualifiers  \\\n",
       "DateTime                                                                     \n",
       "2015-02-19 23:00:15.911660         1        NaN       NaN  BBO[MKT_ST_IND]   \n",
       "2015-02-19 23:04:07.915206         1        NaN       NaN  BBO[MKT_ST_IND]   \n",
       "2015-02-19 23:12:17.686884         1        NaN       NaN  BBO[MKT_ST_IND]   \n",
       "2015-02-19 23:31:59.319521         1        NaN       NaN  BBO[MKT_ST_IND]   \n",
       "2015-02-19 23:49:24.193869         1        NaN       NaN  BBO[MKT_ST_IND]   \n",
       "\n",
       "                            New Price  New Vol  \n",
       "DateTime                                        \n",
       "2015-02-19 23:00:15.911660        NaN      NaN  \n",
       "2015-02-19 23:04:07.915206        NaN      NaN  \n",
       "2015-02-19 23:12:17.686884        NaN      NaN  \n",
       "2015-02-19 23:31:59.319521        NaN      NaN  \n",
       "2015-02-19 23:49:24.193869        NaN      NaN  "
      ]
     },
     "execution_count": 27,
     "metadata": {},
     "output_type": "execute_result"
    }
   ],
   "source": [
    "data.tail()"
   ]
  },
  {
   "cell_type": "code",
   "execution_count": 28,
   "metadata": {
    "collapsed": false
   },
   "outputs": [
    {
     "data": {
      "text/html": [
       "<div style=\"max-height:1000px;max-width:1500px;overflow:auto;\">\n",
       "<table border=\"1\" class=\"dataframe\">\n",
       "  <thead>\n",
       "    <tr style=\"text-align: right;\">\n",
       "      <th></th>\n",
       "      <th>#RIC</th>\n",
       "      <th>GMT Offset</th>\n",
       "      <th>Type</th>\n",
       "      <th>Price</th>\n",
       "      <th>Volume</th>\n",
       "      <th>Bid Price</th>\n",
       "      <th>Bid Size</th>\n",
       "      <th>Ask Price</th>\n",
       "      <th>Ask Size</th>\n",
       "      <th>Qualifiers</th>\n",
       "      <th>New Price</th>\n",
       "      <th>New Vol</th>\n",
       "    </tr>\n",
       "    <tr>\n",
       "      <th>DateTime</th>\n",
       "      <th></th>\n",
       "      <th></th>\n",
       "      <th></th>\n",
       "      <th></th>\n",
       "      <th></th>\n",
       "      <th></th>\n",
       "      <th></th>\n",
       "      <th></th>\n",
       "      <th></th>\n",
       "      <th></th>\n",
       "      <th></th>\n",
       "      <th></th>\n",
       "    </tr>\n",
       "  </thead>\n",
       "  <tbody>\n",
       "    <tr>\n",
       "      <th>2015-02-19 00:01:02.423245</th>\n",
       "      <td>NGF6</td>\n",
       "      <td>-5</td>\n",
       "      <td>Quote</td>\n",
       "      <td>NaN</td>\n",
       "      <td>NaN</td>\n",
       "      <td>3.353</td>\n",
       "      <td>3</td>\n",
       "      <td>NaN</td>\n",
       "      <td>NaN</td>\n",
       "      <td>NaN</td>\n",
       "      <td>NaN</td>\n",
       "      <td>NaN</td>\n",
       "    </tr>\n",
       "    <tr>\n",
       "      <th>2015-02-19 00:27:43.608923</th>\n",
       "      <td>NGF6</td>\n",
       "      <td>-5</td>\n",
       "      <td>Quote</td>\n",
       "      <td>NaN</td>\n",
       "      <td>NaN</td>\n",
       "      <td>3.354</td>\n",
       "      <td>1</td>\n",
       "      <td>NaN</td>\n",
       "      <td>NaN</td>\n",
       "      <td>NaN</td>\n",
       "      <td>NaN</td>\n",
       "      <td>NaN</td>\n",
       "    </tr>\n",
       "    <tr>\n",
       "      <th>2015-02-19 00:27:43.608923</th>\n",
       "      <td>NGF6</td>\n",
       "      <td>-5</td>\n",
       "      <td>Quote</td>\n",
       "      <td>NaN</td>\n",
       "      <td>NaN</td>\n",
       "      <td>3.353</td>\n",
       "      <td>3</td>\n",
       "      <td>NaN</td>\n",
       "      <td>NaN</td>\n",
       "      <td>NaN</td>\n",
       "      <td>NaN</td>\n",
       "      <td>NaN</td>\n",
       "    </tr>\n",
       "    <tr>\n",
       "      <th>2015-02-19 00:27:59.712122</th>\n",
       "      <td>NGF6</td>\n",
       "      <td>-5</td>\n",
       "      <td>Quote</td>\n",
       "      <td>NaN</td>\n",
       "      <td>NaN</td>\n",
       "      <td>3.354</td>\n",
       "      <td>1</td>\n",
       "      <td>NaN</td>\n",
       "      <td>NaN</td>\n",
       "      <td>NaN</td>\n",
       "      <td>NaN</td>\n",
       "      <td>NaN</td>\n",
       "    </tr>\n",
       "    <tr>\n",
       "      <th>2015-02-19 00:27:59.721896</th>\n",
       "      <td>NGF6</td>\n",
       "      <td>-5</td>\n",
       "      <td>Quote</td>\n",
       "      <td>NaN</td>\n",
       "      <td>NaN</td>\n",
       "      <td>3.353</td>\n",
       "      <td>3</td>\n",
       "      <td>NaN</td>\n",
       "      <td>NaN</td>\n",
       "      <td>NaN</td>\n",
       "      <td>NaN</td>\n",
       "      <td>NaN</td>\n",
       "    </tr>\n",
       "  </tbody>\n",
       "</table>\n",
       "</div>"
      ],
      "text/plain": [
       "                            #RIC  GMT Offset   Type  Price  Volume  Bid Price  \\\n",
       "DateTime                                                                        \n",
       "2015-02-19 00:01:02.423245  NGF6          -5  Quote    NaN     NaN      3.353   \n",
       "2015-02-19 00:27:43.608923  NGF6          -5  Quote    NaN     NaN      3.354   \n",
       "2015-02-19 00:27:43.608923  NGF6          -5  Quote    NaN     NaN      3.353   \n",
       "2015-02-19 00:27:59.712122  NGF6          -5  Quote    NaN     NaN      3.354   \n",
       "2015-02-19 00:27:59.721896  NGF6          -5  Quote    NaN     NaN      3.353   \n",
       "\n",
       "                            Bid Size  Ask Price  Ask Size Qualifiers  \\\n",
       "DateTime                                                               \n",
       "2015-02-19 00:01:02.423245         3        NaN       NaN        NaN   \n",
       "2015-02-19 00:27:43.608923         1        NaN       NaN        NaN   \n",
       "2015-02-19 00:27:43.608923         3        NaN       NaN        NaN   \n",
       "2015-02-19 00:27:59.712122         1        NaN       NaN        NaN   \n",
       "2015-02-19 00:27:59.721896         3        NaN       NaN        NaN   \n",
       "\n",
       "                            New Price  New Vol  \n",
       "DateTime                                        \n",
       "2015-02-19 00:01:02.423245        NaN      NaN  \n",
       "2015-02-19 00:27:43.608923        NaN      NaN  \n",
       "2015-02-19 00:27:43.608923        NaN      NaN  \n",
       "2015-02-19 00:27:59.712122        NaN      NaN  \n",
       "2015-02-19 00:27:59.721896        NaN      NaN  "
      ]
     },
     "execution_count": 28,
     "metadata": {},
     "output_type": "execute_result"
    }
   ],
   "source": [
    "data.head()"
   ]
  },
  {
   "cell_type": "code",
   "execution_count": 29,
   "metadata": {
    "collapsed": false
   },
   "outputs": [
    {
     "data": {
      "text/plain": [
       "array(['Quote', 'Trade', 'Open Interest', 'Correction'], dtype=object)"
      ]
     },
     "execution_count": 29,
     "metadata": {},
     "output_type": "execute_result"
    }
   ],
   "source": [
    "data.Type.unique()"
   ]
  },
  {
   "cell_type": "code",
   "execution_count": 30,
   "metadata": {
    "collapsed": false
   },
   "outputs": [
    {
     "data": {
      "text/plain": [
       "array([nan, 'T [OPNRNGTP];Open[USER]', 'GCT[IRGCOND]',\n",
       "       ' [HIGHTP_1]; [LOWTP_1];   [MKT_ST_IND];Low[USER]',\n",
       "       '   [MKT_ST_IND]', 'BBO[MKT_ST_IND]',\n",
       "       'GCT[IRGCOND];BBO[MKT_ST_IND]', '611[IRGCOND];BBO[MKT_ST_IND]',\n",
       "       'IND[MKT_ST_IND]', '401[IRGCOND];IND[MKT_ST_IND]',\n",
       "       '  [CLSRNGTP];   [IRGCOND];IND[MKT_ST_IND];  [OPNRNGTP]'], dtype=object)"
      ]
     },
     "execution_count": 30,
     "metadata": {},
     "output_type": "execute_result"
    }
   ],
   "source": [
    "data.Qualifiers.unique()"
   ]
  },
  {
   "cell_type": "code",
   "execution_count": 31,
   "metadata": {
    "collapsed": false
   },
   "outputs": [
    {
     "data": {
      "text/html": [
       "<div style=\"max-height:1000px;max-width:1500px;overflow:auto;\">\n",
       "<table border=\"1\" class=\"dataframe\">\n",
       "  <thead>\n",
       "    <tr style=\"text-align: right;\">\n",
       "      <th></th>\n",
       "      <th>#RIC</th>\n",
       "      <th>GMT Offset</th>\n",
       "      <th>Type</th>\n",
       "      <th>Price</th>\n",
       "      <th>Volume</th>\n",
       "      <th>Bid Price</th>\n",
       "      <th>Bid Size</th>\n",
       "      <th>Ask Price</th>\n",
       "      <th>Ask Size</th>\n",
       "      <th>Qualifiers</th>\n",
       "      <th>New Price</th>\n",
       "      <th>New Vol</th>\n",
       "    </tr>\n",
       "    <tr>\n",
       "      <th>DateTime</th>\n",
       "      <th></th>\n",
       "      <th></th>\n",
       "      <th></th>\n",
       "      <th></th>\n",
       "      <th></th>\n",
       "      <th></th>\n",
       "      <th></th>\n",
       "      <th></th>\n",
       "      <th></th>\n",
       "      <th></th>\n",
       "      <th></th>\n",
       "      <th></th>\n",
       "    </tr>\n",
       "  </thead>\n",
       "  <tbody>\n",
       "    <tr>\n",
       "      <th>2015-02-19 07:12:18.675012</th>\n",
       "      <td>NGF6</td>\n",
       "      <td>-5</td>\n",
       "      <td>Open Interest</td>\n",
       "      <td>NaN</td>\n",
       "      <td>44952</td>\n",
       "      <td>NaN</td>\n",
       "      <td>NaN</td>\n",
       "      <td>NaN</td>\n",
       "      <td>NaN</td>\n",
       "      <td>NaN</td>\n",
       "      <td>NaN</td>\n",
       "      <td>NaN</td>\n",
       "    </tr>\n",
       "  </tbody>\n",
       "</table>\n",
       "</div>"
      ],
      "text/plain": [
       "                            #RIC  GMT Offset           Type  Price  Volume  \\\n",
       "DateTime                                                                     \n",
       "2015-02-19 07:12:18.675012  NGF6          -5  Open Interest    NaN   44952   \n",
       "\n",
       "                            Bid Price  Bid Size  Ask Price  Ask Size  \\\n",
       "DateTime                                                               \n",
       "2015-02-19 07:12:18.675012        NaN       NaN        NaN       NaN   \n",
       "\n",
       "                           Qualifiers  New Price  New Vol  \n",
       "DateTime                                                   \n",
       "2015-02-19 07:12:18.675012        NaN        NaN      NaN  "
      ]
     },
     "execution_count": 31,
     "metadata": {},
     "output_type": "execute_result"
    }
   ],
   "source": [
    "data[data.Type == 'Open Interest']"
   ]
  },
  {
   "cell_type": "code",
   "execution_count": 32,
   "metadata": {
    "collapsed": false
   },
   "outputs": [
    {
     "data": {
      "text/html": [
       "<div style=\"max-height:1000px;max-width:1500px;overflow:auto;\">\n",
       "<table border=\"1\" class=\"dataframe\">\n",
       "  <thead>\n",
       "    <tr style=\"text-align: right;\">\n",
       "      <th></th>\n",
       "      <th>#RIC</th>\n",
       "      <th>GMT Offset</th>\n",
       "      <th>Type</th>\n",
       "      <th>Price</th>\n",
       "      <th>Volume</th>\n",
       "      <th>Bid Price</th>\n",
       "      <th>Bid Size</th>\n",
       "      <th>Ask Price</th>\n",
       "      <th>Ask Size</th>\n",
       "      <th>Qualifiers</th>\n",
       "      <th>New Price</th>\n",
       "      <th>New Vol</th>\n",
       "    </tr>\n",
       "    <tr>\n",
       "      <th>DateTime</th>\n",
       "      <th></th>\n",
       "      <th></th>\n",
       "      <th></th>\n",
       "      <th></th>\n",
       "      <th></th>\n",
       "      <th></th>\n",
       "      <th></th>\n",
       "      <th></th>\n",
       "      <th></th>\n",
       "      <th></th>\n",
       "      <th></th>\n",
       "      <th></th>\n",
       "    </tr>\n",
       "  </thead>\n",
       "  <tbody>\n",
       "    <tr>\n",
       "      <th>2015-02-19 22:44:31.422194</th>\n",
       "      <td>NGF6</td>\n",
       "      <td>-5</td>\n",
       "      <td>Correction</td>\n",
       "      <td>3.389</td>\n",
       "      <td>NaN</td>\n",
       "      <td>NaN</td>\n",
       "      <td>NaN</td>\n",
       "      <td>NaN</td>\n",
       "      <td>NaN</td>\n",
       "      <td>401[IRGCOND];IND[MKT_ST_IND]</td>\n",
       "      <td>NaN</td>\n",
       "      <td>NaN</td>\n",
       "    </tr>\n",
       "    <tr>\n",
       "      <th>2015-02-19 22:45:04.015431</th>\n",
       "      <td>NGF6</td>\n",
       "      <td>-5</td>\n",
       "      <td>Correction</td>\n",
       "      <td>0.000</td>\n",
       "      <td>0</td>\n",
       "      <td>NaN</td>\n",
       "      <td>NaN</td>\n",
       "      <td>NaN</td>\n",
       "      <td>NaN</td>\n",
       "      <td>[CLSRNGTP];   [IRGCOND];IND[MKT_ST_IND];  [O...</td>\n",
       "      <td>NaN</td>\n",
       "      <td>NaN</td>\n",
       "    </tr>\n",
       "  </tbody>\n",
       "</table>\n",
       "</div>"
      ],
      "text/plain": [
       "                            #RIC  GMT Offset        Type  Price  Volume  \\\n",
       "DateTime                                                                  \n",
       "2015-02-19 22:44:31.422194  NGF6          -5  Correction  3.389     NaN   \n",
       "2015-02-19 22:45:04.015431  NGF6          -5  Correction  0.000       0   \n",
       "\n",
       "                            Bid Price  Bid Size  Ask Price  Ask Size  \\\n",
       "DateTime                                                               \n",
       "2015-02-19 22:44:31.422194        NaN       NaN        NaN       NaN   \n",
       "2015-02-19 22:45:04.015431        NaN       NaN        NaN       NaN   \n",
       "\n",
       "                                                                   Qualifiers  \\\n",
       "DateTime                                                                        \n",
       "2015-02-19 22:44:31.422194                       401[IRGCOND];IND[MKT_ST_IND]   \n",
       "2015-02-19 22:45:04.015431    [CLSRNGTP];   [IRGCOND];IND[MKT_ST_IND];  [O...   \n",
       "\n",
       "                            New Price  New Vol  \n",
       "DateTime                                        \n",
       "2015-02-19 22:44:31.422194        NaN      NaN  \n",
       "2015-02-19 22:45:04.015431        NaN      NaN  "
      ]
     },
     "execution_count": 32,
     "metadata": {},
     "output_type": "execute_result"
    }
   ],
   "source": [
    "data[data.Type == 'Correction']"
   ]
  },
  {
   "cell_type": "code",
   "execution_count": 33,
   "metadata": {
    "collapsed": true
   },
   "outputs": [],
   "source": [
    "grouped_by_type = data.groupby('Type')"
   ]
  },
  {
   "cell_type": "code",
   "execution_count": 34,
   "metadata": {
    "collapsed": false,
    "scrolled": true
   },
   "outputs": [
    {
     "data": {
      "text/plain": [
       "Type\n",
       "Correction            2\n",
       "Open Interest         1\n",
       "Quote            162393\n",
       "Trade              5634\n",
       "Name: #RIC, dtype: int64"
      ]
     },
     "execution_count": 34,
     "metadata": {},
     "output_type": "execute_result"
    }
   ],
   "source": [
    "types = grouped_by_type['#RIC'].count()\n",
    "types"
   ]
  },
  {
   "cell_type": "code",
   "execution_count": 35,
   "metadata": {
    "collapsed": false
   },
   "outputs": [
    {
     "data": {
      "text/plain": [
       "0.034693613640982064"
      ]
     },
     "execution_count": 35,
     "metadata": {},
     "output_type": "execute_result"
    }
   ],
   "source": [
    "fill_prob = float(types['Trade'])/types['Quote']\n",
    "fill_prob"
   ]
  },
  {
   "cell_type": "code",
   "execution_count": 36,
   "metadata": {
    "collapsed": false
   },
   "outputs": [
    {
     "data": {
      "text/html": [
       "<div style=\"max-height:1000px;max-width:1500px;overflow:auto;\">\n",
       "<table border=\"1\" class=\"dataframe\">\n",
       "  <thead>\n",
       "    <tr style=\"text-align: right;\">\n",
       "      <th></th>\n",
       "      <th>#RIC</th>\n",
       "      <th>GMT Offset</th>\n",
       "      <th>Type</th>\n",
       "      <th>Price</th>\n",
       "      <th>Volume</th>\n",
       "      <th>Bid Price</th>\n",
       "      <th>Bid Size</th>\n",
       "      <th>Ask Price</th>\n",
       "      <th>Ask Size</th>\n",
       "      <th>Qualifiers</th>\n",
       "      <th>New Price</th>\n",
       "      <th>New Vol</th>\n",
       "    </tr>\n",
       "    <tr>\n",
       "      <th>DateTime</th>\n",
       "      <th></th>\n",
       "      <th></th>\n",
       "      <th></th>\n",
       "      <th></th>\n",
       "      <th></th>\n",
       "      <th></th>\n",
       "      <th></th>\n",
       "      <th></th>\n",
       "      <th></th>\n",
       "      <th></th>\n",
       "      <th></th>\n",
       "      <th></th>\n",
       "    </tr>\n",
       "  </thead>\n",
       "  <tbody>\n",
       "    <tr>\n",
       "      <th>2015-02-19 12:58:29.671651</th>\n",
       "      <td>NGF6</td>\n",
       "      <td>-5</td>\n",
       "      <td>Trade</td>\n",
       "      <td>3.414</td>\n",
       "      <td>1</td>\n",
       "      <td>NaN</td>\n",
       "      <td>NaN</td>\n",
       "      <td>NaN</td>\n",
       "      <td>NaN</td>\n",
       "      <td>GCT[IRGCOND]</td>\n",
       "      <td>NaN</td>\n",
       "      <td>NaN</td>\n",
       "    </tr>\n",
       "    <tr>\n",
       "      <th>2015-02-19 12:58:29.671651</th>\n",
       "      <td>NGF6</td>\n",
       "      <td>-5</td>\n",
       "      <td>Trade</td>\n",
       "      <td>3.414</td>\n",
       "      <td>7</td>\n",
       "      <td>NaN</td>\n",
       "      <td>NaN</td>\n",
       "      <td>NaN</td>\n",
       "      <td>NaN</td>\n",
       "      <td>GCT[IRGCOND]</td>\n",
       "      <td>NaN</td>\n",
       "      <td>NaN</td>\n",
       "    </tr>\n",
       "    <tr>\n",
       "      <th>2015-02-19 12:58:29.671651</th>\n",
       "      <td>NGF6</td>\n",
       "      <td>-5</td>\n",
       "      <td>Trade</td>\n",
       "      <td>3.414</td>\n",
       "      <td>2</td>\n",
       "      <td>NaN</td>\n",
       "      <td>NaN</td>\n",
       "      <td>NaN</td>\n",
       "      <td>NaN</td>\n",
       "      <td>GCT[IRGCOND]</td>\n",
       "      <td>NaN</td>\n",
       "      <td>NaN</td>\n",
       "    </tr>\n",
       "    <tr>\n",
       "      <th>2015-02-19 12:58:29.671651</th>\n",
       "      <td>NGF6</td>\n",
       "      <td>-5</td>\n",
       "      <td>Quote</td>\n",
       "      <td>NaN</td>\n",
       "      <td>NaN</td>\n",
       "      <td>3.410</td>\n",
       "      <td>3</td>\n",
       "      <td>NaN</td>\n",
       "      <td>NaN</td>\n",
       "      <td>NaN</td>\n",
       "      <td>NaN</td>\n",
       "      <td>NaN</td>\n",
       "    </tr>\n",
       "    <tr>\n",
       "      <th>2015-02-19 12:58:29.671651</th>\n",
       "      <td>NGF6</td>\n",
       "      <td>-5</td>\n",
       "      <td>Quote</td>\n",
       "      <td>NaN</td>\n",
       "      <td>NaN</td>\n",
       "      <td>NaN</td>\n",
       "      <td>NaN</td>\n",
       "      <td>3.414</td>\n",
       "      <td>2</td>\n",
       "      <td>NaN</td>\n",
       "      <td>NaN</td>\n",
       "      <td>NaN</td>\n",
       "    </tr>\n",
       "    <tr>\n",
       "      <th>2015-02-19 12:58:29.671651</th>\n",
       "      <td>NGF6</td>\n",
       "      <td>-5</td>\n",
       "      <td>Quote</td>\n",
       "      <td>NaN</td>\n",
       "      <td>NaN</td>\n",
       "      <td>3.410</td>\n",
       "      <td>2</td>\n",
       "      <td>NaN</td>\n",
       "      <td>NaN</td>\n",
       "      <td>NaN</td>\n",
       "      <td>NaN</td>\n",
       "      <td>NaN</td>\n",
       "    </tr>\n",
       "    <tr>\n",
       "      <th>2015-02-19 12:58:29.671651</th>\n",
       "      <td>NGF6</td>\n",
       "      <td>-5</td>\n",
       "      <td>Quote</td>\n",
       "      <td>NaN</td>\n",
       "      <td>NaN</td>\n",
       "      <td>3.410</td>\n",
       "      <td>1</td>\n",
       "      <td>NaN</td>\n",
       "      <td>NaN</td>\n",
       "      <td>NaN</td>\n",
       "      <td>NaN</td>\n",
       "      <td>NaN</td>\n",
       "    </tr>\n",
       "    <tr>\n",
       "      <th>2015-02-19 12:58:30.681347</th>\n",
       "      <td>NGF6</td>\n",
       "      <td>-5</td>\n",
       "      <td>Quote</td>\n",
       "      <td>NaN</td>\n",
       "      <td>NaN</td>\n",
       "      <td>3.409</td>\n",
       "      <td>3</td>\n",
       "      <td>NaN</td>\n",
       "      <td>NaN</td>\n",
       "      <td>NaN</td>\n",
       "      <td>NaN</td>\n",
       "      <td>NaN</td>\n",
       "    </tr>\n",
       "    <tr>\n",
       "      <th>2015-02-19 12:58:30.681347</th>\n",
       "      <td>NGF6</td>\n",
       "      <td>-5</td>\n",
       "      <td>Quote</td>\n",
       "      <td>NaN</td>\n",
       "      <td>NaN</td>\n",
       "      <td>3.409</td>\n",
       "      <td>4</td>\n",
       "      <td>NaN</td>\n",
       "      <td>NaN</td>\n",
       "      <td>NaN</td>\n",
       "      <td>NaN</td>\n",
       "      <td>NaN</td>\n",
       "    </tr>\n",
       "    <tr>\n",
       "      <th>2015-02-19 12:58:53.713205</th>\n",
       "      <td>NGF6</td>\n",
       "      <td>-5</td>\n",
       "      <td>Quote</td>\n",
       "      <td>NaN</td>\n",
       "      <td>NaN</td>\n",
       "      <td>NaN</td>\n",
       "      <td>NaN</td>\n",
       "      <td>3.414</td>\n",
       "      <td>3</td>\n",
       "      <td>NaN</td>\n",
       "      <td>NaN</td>\n",
       "      <td>NaN</td>\n",
       "    </tr>\n",
       "    <tr>\n",
       "      <th>2015-02-19 12:58:54.453462</th>\n",
       "      <td>NGF6</td>\n",
       "      <td>-5</td>\n",
       "      <td>Quote</td>\n",
       "      <td>NaN</td>\n",
       "      <td>NaN</td>\n",
       "      <td>NaN</td>\n",
       "      <td>NaN</td>\n",
       "      <td>3.414</td>\n",
       "      <td>2</td>\n",
       "      <td>NaN</td>\n",
       "      <td>NaN</td>\n",
       "      <td>NaN</td>\n",
       "    </tr>\n",
       "  </tbody>\n",
       "</table>\n",
       "</div>"
      ],
      "text/plain": [
       "                            #RIC  GMT Offset   Type  Price  Volume  Bid Price  \\\n",
       "DateTime                                                                        \n",
       "2015-02-19 12:58:29.671651  NGF6          -5  Trade  3.414       1        NaN   \n",
       "2015-02-19 12:58:29.671651  NGF6          -5  Trade  3.414       7        NaN   \n",
       "2015-02-19 12:58:29.671651  NGF6          -5  Trade  3.414       2        NaN   \n",
       "2015-02-19 12:58:29.671651  NGF6          -5  Quote    NaN     NaN      3.410   \n",
       "2015-02-19 12:58:29.671651  NGF6          -5  Quote    NaN     NaN        NaN   \n",
       "2015-02-19 12:58:29.671651  NGF6          -5  Quote    NaN     NaN      3.410   \n",
       "2015-02-19 12:58:29.671651  NGF6          -5  Quote    NaN     NaN      3.410   \n",
       "2015-02-19 12:58:30.681347  NGF6          -5  Quote    NaN     NaN      3.409   \n",
       "2015-02-19 12:58:30.681347  NGF6          -5  Quote    NaN     NaN      3.409   \n",
       "2015-02-19 12:58:53.713205  NGF6          -5  Quote    NaN     NaN        NaN   \n",
       "2015-02-19 12:58:54.453462  NGF6          -5  Quote    NaN     NaN        NaN   \n",
       "\n",
       "                            Bid Size  Ask Price  Ask Size    Qualifiers  \\\n",
       "DateTime                                                                  \n",
       "2015-02-19 12:58:29.671651       NaN        NaN       NaN  GCT[IRGCOND]   \n",
       "2015-02-19 12:58:29.671651       NaN        NaN       NaN  GCT[IRGCOND]   \n",
       "2015-02-19 12:58:29.671651       NaN        NaN       NaN  GCT[IRGCOND]   \n",
       "2015-02-19 12:58:29.671651         3        NaN       NaN           NaN   \n",
       "2015-02-19 12:58:29.671651       NaN      3.414         2           NaN   \n",
       "2015-02-19 12:58:29.671651         2        NaN       NaN           NaN   \n",
       "2015-02-19 12:58:29.671651         1        NaN       NaN           NaN   \n",
       "2015-02-19 12:58:30.681347         3        NaN       NaN           NaN   \n",
       "2015-02-19 12:58:30.681347         4        NaN       NaN           NaN   \n",
       "2015-02-19 12:58:53.713205       NaN      3.414         3           NaN   \n",
       "2015-02-19 12:58:54.453462       NaN      3.414         2           NaN   \n",
       "\n",
       "                            New Price  New Vol  \n",
       "DateTime                                        \n",
       "2015-02-19 12:58:29.671651        NaN      NaN  \n",
       "2015-02-19 12:58:29.671651        NaN      NaN  \n",
       "2015-02-19 12:58:29.671651        NaN      NaN  \n",
       "2015-02-19 12:58:29.671651        NaN      NaN  \n",
       "2015-02-19 12:58:29.671651        NaN      NaN  \n",
       "2015-02-19 12:58:29.671651        NaN      NaN  \n",
       "2015-02-19 12:58:29.671651        NaN      NaN  \n",
       "2015-02-19 12:58:30.681347        NaN      NaN  \n",
       "2015-02-19 12:58:30.681347        NaN      NaN  \n",
       "2015-02-19 12:58:53.713205        NaN      NaN  \n",
       "2015-02-19 12:58:54.453462        NaN      NaN  "
      ]
     },
     "execution_count": 36,
     "metadata": {},
     "output_type": "execute_result"
    }
   ],
   "source": [
    "data.between_time('12:58:28', '12:59')"
   ]
  },
  {
   "cell_type": "code",
   "execution_count": 37,
   "metadata": {
    "collapsed": false
   },
   "outputs": [
    {
     "data": {
      "text/plain": [
       "array(['T [OPNRNGTP];Open[USER]', nan, 'GCT[IRGCOND]',\n",
       "       ' [HIGHTP_1]; [LOWTP_1];   [MKT_ST_IND];Low[USER]',\n",
       "       'GCT[IRGCOND];BBO[MKT_ST_IND]', 'BBO[MKT_ST_IND]',\n",
       "       '611[IRGCOND];BBO[MKT_ST_IND]', 'IND[MKT_ST_IND]'], dtype=object)"
      ]
     },
     "execution_count": 37,
     "metadata": {},
     "output_type": "execute_result"
    }
   ],
   "source": [
    "data[data.Type == 'Trade'].Qualifiers.unique()"
   ]
  },
  {
   "cell_type": "code",
   "execution_count": 38,
   "metadata": {
    "collapsed": false
   },
   "outputs": [
    {
     "data": {
      "text/plain": [
       "Index(['#RIC', 'GMT Offset', 'Type', 'Price', 'Volume', 'Bid Price',\n",
       "       'Bid Size', 'Ask Price', 'Ask Size', 'Qualifiers', 'New Price',\n",
       "       'New Vol'],\n",
       "      dtype='object')"
      ]
     },
     "execution_count": 38,
     "metadata": {},
     "output_type": "execute_result"
    }
   ],
   "source": [
    "data.columns"
   ]
  },
  {
   "cell_type": "code",
   "execution_count": 39,
   "metadata": {
    "collapsed": false
   },
   "outputs": [
    {
     "data": {
      "text/plain": [
       "array(['Quote', 'Trade', 'Open Interest', 'Correction'], dtype=object)"
      ]
     },
     "execution_count": 39,
     "metadata": {},
     "output_type": "execute_result"
    }
   ],
   "source": [
    "data.Type.unique()"
   ]
  },
  {
   "cell_type": "code",
   "execution_count": 40,
   "metadata": {
    "collapsed": false
   },
   "outputs": [
    {
     "data": {
      "text/html": [
       "<div style=\"max-height:1000px;max-width:1500px;overflow:auto;\">\n",
       "<table border=\"1\" class=\"dataframe\">\n",
       "  <thead>\n",
       "    <tr style=\"text-align: right;\">\n",
       "      <th></th>\n",
       "      <th>#RIC</th>\n",
       "      <th>GMT Offset</th>\n",
       "      <th>Type</th>\n",
       "      <th>Price</th>\n",
       "      <th>Volume</th>\n",
       "      <th>Bid Price</th>\n",
       "      <th>Bid Size</th>\n",
       "      <th>Ask Price</th>\n",
       "      <th>Ask Size</th>\n",
       "      <th>Qualifiers</th>\n",
       "      <th>New Price</th>\n",
       "      <th>New Vol</th>\n",
       "    </tr>\n",
       "    <tr>\n",
       "      <th>DateTime</th>\n",
       "      <th></th>\n",
       "      <th></th>\n",
       "      <th></th>\n",
       "      <th></th>\n",
       "      <th></th>\n",
       "      <th></th>\n",
       "      <th></th>\n",
       "      <th></th>\n",
       "      <th></th>\n",
       "      <th></th>\n",
       "      <th></th>\n",
       "      <th></th>\n",
       "    </tr>\n",
       "  </thead>\n",
       "  <tbody>\n",
       "    <tr>\n",
       "      <th>2015-02-19 22:44:31.422194</th>\n",
       "      <td>NGF6</td>\n",
       "      <td>-5</td>\n",
       "      <td>Correction</td>\n",
       "      <td>3.389</td>\n",
       "      <td>NaN</td>\n",
       "      <td>NaN</td>\n",
       "      <td>NaN</td>\n",
       "      <td>NaN</td>\n",
       "      <td>NaN</td>\n",
       "      <td>401[IRGCOND];IND[MKT_ST_IND]</td>\n",
       "      <td>NaN</td>\n",
       "      <td>NaN</td>\n",
       "    </tr>\n",
       "    <tr>\n",
       "      <th>2015-02-19 22:45:04.015431</th>\n",
       "      <td>NGF6</td>\n",
       "      <td>-5</td>\n",
       "      <td>Correction</td>\n",
       "      <td>0.000</td>\n",
       "      <td>0</td>\n",
       "      <td>NaN</td>\n",
       "      <td>NaN</td>\n",
       "      <td>NaN</td>\n",
       "      <td>NaN</td>\n",
       "      <td>[CLSRNGTP];   [IRGCOND];IND[MKT_ST_IND];  [O...</td>\n",
       "      <td>NaN</td>\n",
       "      <td>NaN</td>\n",
       "    </tr>\n",
       "  </tbody>\n",
       "</table>\n",
       "</div>"
      ],
      "text/plain": [
       "                            #RIC  GMT Offset        Type  Price  Volume  \\\n",
       "DateTime                                                                  \n",
       "2015-02-19 22:44:31.422194  NGF6          -5  Correction  3.389     NaN   \n",
       "2015-02-19 22:45:04.015431  NGF6          -5  Correction  0.000       0   \n",
       "\n",
       "                            Bid Price  Bid Size  Ask Price  Ask Size  \\\n",
       "DateTime                                                               \n",
       "2015-02-19 22:44:31.422194        NaN       NaN        NaN       NaN   \n",
       "2015-02-19 22:45:04.015431        NaN       NaN        NaN       NaN   \n",
       "\n",
       "                                                                   Qualifiers  \\\n",
       "DateTime                                                                        \n",
       "2015-02-19 22:44:31.422194                       401[IRGCOND];IND[MKT_ST_IND]   \n",
       "2015-02-19 22:45:04.015431    [CLSRNGTP];   [IRGCOND];IND[MKT_ST_IND];  [O...   \n",
       "\n",
       "                            New Price  New Vol  \n",
       "DateTime                                        \n",
       "2015-02-19 22:44:31.422194        NaN      NaN  \n",
       "2015-02-19 22:45:04.015431        NaN      NaN  "
      ]
     },
     "execution_count": 40,
     "metadata": {},
     "output_type": "execute_result"
    }
   ],
   "source": [
    "data[data.Type == 'Correction']"
   ]
  },
  {
   "cell_type": "code",
   "execution_count": 41,
   "metadata": {
    "collapsed": false
   },
   "outputs": [
    {
     "data": {
      "text/html": [
       "<div style=\"max-height:1000px;max-width:1500px;overflow:auto;\">\n",
       "<table border=\"1\" class=\"dataframe\">\n",
       "  <thead>\n",
       "    <tr style=\"text-align: right;\">\n",
       "      <th></th>\n",
       "      <th>#RIC</th>\n",
       "      <th>GMT Offset</th>\n",
       "      <th>Type</th>\n",
       "      <th>Price</th>\n",
       "      <th>Volume</th>\n",
       "      <th>Bid Price</th>\n",
       "      <th>Bid Size</th>\n",
       "      <th>Ask Price</th>\n",
       "      <th>Ask Size</th>\n",
       "      <th>Qualifiers</th>\n",
       "      <th>New Price</th>\n",
       "      <th>New Vol</th>\n",
       "    </tr>\n",
       "    <tr>\n",
       "      <th>DateTime</th>\n",
       "      <th></th>\n",
       "      <th></th>\n",
       "      <th></th>\n",
       "      <th></th>\n",
       "      <th></th>\n",
       "      <th></th>\n",
       "      <th></th>\n",
       "      <th></th>\n",
       "      <th></th>\n",
       "      <th></th>\n",
       "      <th></th>\n",
       "      <th></th>\n",
       "    </tr>\n",
       "  </thead>\n",
       "  <tbody>\n",
       "    <tr>\n",
       "      <th>2015-02-19 22:45:04.015431</th>\n",
       "      <td>NGF6</td>\n",
       "      <td>-5</td>\n",
       "      <td>Correction</td>\n",
       "      <td>0</td>\n",
       "      <td>0</td>\n",
       "      <td>NaN</td>\n",
       "      <td>NaN</td>\n",
       "      <td>NaN</td>\n",
       "      <td>NaN</td>\n",
       "      <td>[CLSRNGTP];   [IRGCOND];IND[MKT_ST_IND];  [O...</td>\n",
       "      <td>NaN</td>\n",
       "      <td>NaN</td>\n",
       "    </tr>\n",
       "  </tbody>\n",
       "</table>\n",
       "</div>"
      ],
      "text/plain": [
       "                            #RIC  GMT Offset        Type  Price  Volume  \\\n",
       "DateTime                                                                  \n",
       "2015-02-19 22:45:04.015431  NGF6          -5  Correction      0       0   \n",
       "\n",
       "                            Bid Price  Bid Size  Ask Price  Ask Size  \\\n",
       "DateTime                                                               \n",
       "2015-02-19 22:45:04.015431        NaN       NaN        NaN       NaN   \n",
       "\n",
       "                                                                   Qualifiers  \\\n",
       "DateTime                                                                        \n",
       "2015-02-19 22:45:04.015431    [CLSRNGTP];   [IRGCOND];IND[MKT_ST_IND];  [O...   \n",
       "\n",
       "                            New Price  New Vol  \n",
       "DateTime                                        \n",
       "2015-02-19 22:45:04.015431        NaN      NaN  "
      ]
     },
     "execution_count": 41,
     "metadata": {},
     "output_type": "execute_result"
    }
   ],
   "source": [
    "data.between_time( '22:45:00', '22:46:00')"
   ]
  },
  {
   "cell_type": "code",
   "execution_count": 43,
   "metadata": {
    "collapsed": false
   },
   "outputs": [
    {
     "data": {
      "text/plain": [
       "array([ nan])"
      ]
     },
     "execution_count": 43,
     "metadata": {},
     "output_type": "execute_result"
    }
   ],
   "source": [
    "data[data.Type == 'Quote'].Volume.unique()"
   ]
  },
  {
   "cell_type": "code",
   "execution_count": 45,
   "metadata": {
    "collapsed": false
   },
   "outputs": [
    {
     "data": {
      "text/plain": [
       "array([ nan])"
      ]
     },
     "execution_count": 45,
     "metadata": {},
     "output_type": "execute_result"
    }
   ],
   "source": [
    "data['New Vol'].unique()"
   ]
  },
  {
   "cell_type": "code",
   "execution_count": null,
   "metadata": {
    "collapsed": true
   },
   "outputs": [],
   "source": []
  }
 ],
 "metadata": {
  "kernelspec": {
   "display_name": "Python 3",
   "language": "python",
   "name": "python3"
  },
  "language_info": {
   "codemirror_mode": {
    "name": "ipython",
    "version": 3
   },
   "file_extension": ".py",
   "mimetype": "text/x-python",
   "name": "python",
   "nbconvert_exporter": "python",
   "pygments_lexer": "ipython3",
   "version": "3.4.3"
  }
 },
 "nbformat": 4,
 "nbformat_minor": 0
}
